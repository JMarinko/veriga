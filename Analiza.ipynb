{
 "cells": [
  {
   "cell_type": "code",
   "execution_count": 41,
   "metadata": {},
   "outputs": [],
   "source": [
    "import numpy as np\n",
    "from scipy import optimize as opt\n",
    "from scipy.interpolate import UnivariateSpline as uni\n",
    "import matplotlib.pyplot as plt\n"
   ]
  },
  {
   "cell_type": "markdown",
   "metadata": {},
   "source": [
    "### Podatki DIN 8190 (8191)"
   ]
  },
  {
   "cell_type": "code",
   "execution_count": 50,
   "metadata": {},
   "outputs": [],
   "source": [
    "# Oblika [ime, p, f, g1, g2, 2c, u, y]\n",
    "podatki = [['06', 9.525, 3.76, 10.9, 6.7, 3, 9, 0.6],\n",
    "           ['08', 12.7, 5.085, 14.45, 8.7, 4.2, 12.6, 0.6],\n",
    "           ['12', 19.05, 7.44, 21, 10.7, 1.3, 15, 0.5],\n",
    "           ['16', 25.4, 10.04, 27.7, 14, 1.8, 20, 0.5],\n",
    "           ['24', 38.1, 14.95, 41, 21, 2.8, 30, 0.5],\n",
    "           ['32', 50.8, 19.93, 55, 28, 3.6, 40, 0.5, 0.7]]\n",
    "omega = 200  # s^-1"
   ]
  },
  {
   "cell_type": "markdown",
   "metadata": {},
   "source": [
    "### Člen"
   ]
  },
  {
   "cell_type": "code",
   "execution_count": 51,
   "metadata": {
    "scrolled": true
   },
   "outputs": [],
   "source": [
    "class Clen():\n",
    "    \n",
    "    def __init__(self, podatki_i):\n",
    "        ime, self.p, self.f, g1, g2, c, u, y = podatki_i\n",
    "\n",
    "        # Podatki\n",
    "        self.alpha_k = 30\n",
    "        self.alpha_r = np.deg2rad(self.alpha_k)\n",
    "        self.a = 0.8567 * self.p\n",
    "        self.f = 0.6128 * self.a  # ali upoštevam f iz standarda ali računskega\n",
    "        self.L = 1.86 * self.p\n",
    "        self.h1 = 0.33 * self.p\n",
    "        self.h2 = 0.7 * self.p\n",
    "        self.h3 = 1.115 * self.p\n",
    "\n",
    "        # Po izbiri\n",
    "        self.r0 = 28\n",
    "        self.r1 = 2.6\n",
    "        self.r2 = 5.5\n",
    "        self.r3 = 1.2\n",
    "        self.r4 = 14.3\n",
    "        self.r5 = 1.8\n",
    "    \n",
    "        # Resevanje\n",
    "        zac_priblizki = np.ones(28)\n",
    "        resitev = list(opt.fsolve(self.enacbe, zac_priblizki))\n",
    "\n",
    "        # +- 2 * pi, da dobmo prave dele kroga\n",
    "        for i, element in enumerate(resitev):\n",
    "            if i < 14 and (i != 7 or i != 8):\n",
    "                if element > 2 * np.pi:\n",
    "                    resitev[i] = element - 2 * int(element / (2 * np.pi)) * np.pi\n",
    "                elif - element > 2 * np.pi:\n",
    "                    resitev[i] = element + 2 * int(-element / (2 * np.pi)) * np.pi\n",
    "                if i % 2 == 1 and i < 12:\n",
    "                    if resitev[i] < resitev[i - 1]:\n",
    "                        resitev[i] += 2 * np.pi\n",
    "        if resitev[13] > 2 * np.pi:\n",
    "            resitev[13] -= 2 * np.pi\n",
    "        if resitev[13] > resitev[12]:\n",
    "            resitev[12] += 2 * np.pi\n",
    "\n",
    "        t1A, t1B, t2B, t2C, t3C, t3D, t4D, t4E, t5E, t5F, t6F, t6G, t7G, t7H, x01, y01, x02, y02, \\\n",
    "        x03, y03, x04, y04, x05, y05, x06, y06, x07, y07 = resitev\n",
    "\n",
    "        # Zbiranje rezultatov\n",
    "\n",
    "        st_t_c = 300  # Število_točk_člen -> število točk, ki jih uporabim na posamezni krivulji  500\n",
    "        self.x0 = []\n",
    "        self.y0 = []\n",
    "        funkcije = [self.x1, self.y1, self.x2, self.y2, self.x3, self.y3, self.x4, self.y4, self.x5, self.y5,\n",
    "                    self.x6, self.y6, self.x7, self.y7]\n",
    "        konst = [x01, y01, x02, y02, x03, y03, x04, y04, x05, y05, x06, y06, x07, y07]\n",
    "        for i in range(0, 14, 2):\n",
    "            zac, kon = resitev[i], resitev[i+1]\n",
    "            t = np.linspace(zac, kon, st_t_c)\n",
    "            self.x0.append(funkcije[i](t, konst[i])-self.a / 2)  # Doda posamezen odsek x na skupni seznam tocke_clen_x\n",
    "            self.y0.append(funkcije[i+1](t, konst[i+1]))  # Doda posamezen odsek y na skupni seznam tocke_clen_y\n",
    "        \n",
    "        self.x = self.x0[::]\n",
    "        self.y = self.y0[::]\n",
    "        for i in range(len(self.x)):\n",
    "            self.x.append(-self.x0[-(i+1)][::-1])\n",
    "            self.y.append(np.array(self.y0[-(i+1)][::-1]))\n",
    "        self.x = np.array(self.x)\n",
    "        self.y = np.array(self.y)\n",
    "    \n",
    "    # Enacbe\n",
    "    # AB\n",
    "    def x1(self, t1, x01):\n",
    "        return x01 + self.r0 * np.cos(t1)\n",
    "    def y1(self, t1, y01):\n",
    "        return y01 + self.r0 * np.sin(t1)\n",
    "    # BC\n",
    "    def x2(self, t2, x02):\n",
    "        return x02 + self.r1 * np.cos(t2)\n",
    "    def y2(self, t2, y02):\n",
    "        return y02 + self.r1 * np.sin(t2)\n",
    "    # CD\n",
    "    def x3(self, t3, x03):\n",
    "        return x03 + self.r2 * np.cos(t3)\n",
    "    def y3(self, t3, y03):\n",
    "        return y03 + self.r2 * np.sin(t3)\n",
    "    # DE\n",
    "    def x4(self, t4, x04):\n",
    "        return x04 + t4 * np.sin(self.alpha_r)\n",
    "    def y4(self, t4, y04):\n",
    "        return y04 - t4 * np.cos(self.alpha_r)\n",
    "    # EF\n",
    "    def x5(self, t5, x05):\n",
    "        return x05 + self.r3 * np.cos(t5)\n",
    "    def y5(self, t5, y05):\n",
    "        return y05 + self.r3 * np.sin(t5)\n",
    "    # FG\n",
    "    def x6(self, t6, x06):\n",
    "        return x06 + self.r4 * np.cos(t6)\n",
    "    def y6(self, t6, y06):\n",
    "        return y06 + self.r4 * np.sin(t6)\n",
    "    # GH\n",
    "    def x7(self, t7, x07):\n",
    "        return x07 + self.r5 * np.cos(t7)\n",
    "    def y7(self, t7, y07):\n",
    "        return y07 + self.r5 * np.sin(t7)\n",
    "    \n",
    "    # Sistem enacb\n",
    "    def enacbe(self, priblizki):\n",
    "        '''Potrebujem pri določanju geometrije zobnika'''\n",
    "        t1A, t1B, t2B, t2C, t3C, t3D, t4D, t4E, t5E, t5F, t6F, t6G, t7G, t7H, \\\n",
    "        x01, y01, x02, y02, x03, y03, x04, y04, x05, y05, x06, y06, x07, y07 = priblizki\n",
    "        # Zveznost x: 6\n",
    "        e1 = self.x2(t2B, x02) - self.x1(t1B, x01)\n",
    "        e2 = self.x3(t3C, x03) - self.x2(t2C, x02)\n",
    "        e3 = self.x4(t4D, x04) - self.x3(t3D, x03)\n",
    "        e4 = self.x5(t5E, x05) - self.x4(t4E, x04)\n",
    "        e5 = self.x6(t6F, x06) - self.x5(t5F, x05)\n",
    "        e6 = self.x7(t7G, x07) - self.x6(t6G, x06)\n",
    "        # Zveznost y: 6\n",
    "        e7 = self.y2(t2B, y02) - self.y1(t1B, y01)\n",
    "        e8 = self.y3(t3C, y03) - self.y2(t2C, y02)\n",
    "        e9 = self.y4(t4D, y04) - self.y3(t3D, y03)\n",
    "        e10 = self.y5(t5E, y05) - self.y4(t4E, y04)\n",
    "        e11 = self.y6(t6F, y06) - self.y5(t5F, y05)\n",
    "        e12 = self.y7(t7G, y07) - self.y6(t6G, y06)\n",
    "        # Odvodi: 8\n",
    "        e13 = np.pi / 2 - t1A\n",
    "        e14 = t2B - t1B\n",
    "        e15 = t3C - t2C\n",
    "        e16 = np.pi + self.alpha_r - t3D\n",
    "        e17 = t3D - t5E\n",
    "        e18 = t6F - t5F\n",
    "        e19 = t7G - np.pi - t6G\n",
    "        e20 = np.pi / 2 - t7H\n",
    "        # Ostalo: 8\n",
    "        e21 = 0.5 * self.a - self.x1(t1A, x01)\n",
    "        e22 = self.h1 - self.y1(t1A, y01)\n",
    "        e23 = 0.5 * self.a - 0.5 * self.L - self.x3(t3C, x03)\n",
    "        e24 = - self.f * np.cos(self.alpha_r) - self.x4(t4D, x04)\n",
    "        e25 = - self.f * np.sin(self.alpha_r) - self.y4(t4D, x04)\n",
    "        e26 = self.h1 - self.h3 - self.y5(t5F, y05)\n",
    "        e27 = self.h1 - self.h2 - y07\n",
    "        e28 = 0.5 * self.a - self.x7(t7H, x07)\n",
    "        return (e1, e2, e3, e4, e5, e6, e7, e8, e9, e10, e11, e12, e13, e14, e15, e16, e17, e18, e19, e20,\n",
    "                e21, e22, e23, e24, e25, e26, e27, e28)\n",
    "    \n",
    "    def izris(self):\n",
    "        \"Izriše clen.\"\n",
    "        plt.plot(self.x.flatten(), self.y.flatten(), 'b')\n",
    "        plt.axis('equal')\n",
    "        plt.grid()\n",
    "        \n",
    "    def rotacija(self, kot):  # kot v rad\n",
    "        '''Naceloma je za clen ne potrebujem.'''\n",
    "        for i, odsek_x, odsek_y in zip(range(len(self.x)), self.x, self.y):\n",
    "            for j, x_z, y_z in zip(range(len(odsek_x)), odsek_x, odsek_y):\n",
    "                x_n = x_z * np.cos(kot) - y_z * np.sin(kot)  # novi x\n",
    "                y_n = x_z * np.sin(kot) + y_z * np.cos(kot)  # novi y\n",
    "                self.x[i][j] = x_n\n",
    "                self.y[i][j] = y_n\n",
    "                \n",
    "    def translacija_x(self, pomik):\n",
    "        '''Za pomik premakne clen po x osi.'''\n",
    "        self.x += pomik\n",
    "        \n",
    "    def translacija_y(self, pomik):\n",
    "        '''Za pomik premakne clen po y osi.'''\n",
    "        self.y += pomik\n"
   ]
  },
  {
   "cell_type": "markdown",
   "metadata": {},
   "source": [
    "### Verižnik"
   ]
  },
  {
   "cell_type": "code",
   "execution_count": 52,
   "metadata": {
    "scrolled": false
   },
   "outputs": [],
   "source": [
    "class Veriznik():\n",
    "    \n",
    "    def __init__(self, podatki_i, z):\n",
    "\n",
    "        ime, p, f, g1, g2, c, u, y = podatki_i\n",
    "        z = z\n",
    "        \n",
    "        alpha_k = 30\n",
    "        alpha_r = np.deg2rad(alpha_k)\n",
    "        razdelni_premer = (z * p) / np.pi\n",
    "        osnovni_premer = razdelni_premer * np.cos(alpha_r)\n",
    "        addendum = 1 * p / np.pi\n",
    "        dedendum = 1.25 * p / np.pi\n",
    "        self.zunanji_premer = razdelni_premer + 2 * addendum\n",
    "        krozni_korak = p / (razdelni_premer / 2)\n",
    "        zracnost = 0.05  # zračnost - luknja in zob na razdelnem krogu nista točno 1/2, ampak je zob malo ožji\n",
    "        krozna_debelina_zoba = p / (2 + zracnost)\n",
    "        krozni_kot_zoba = krozna_debelina_zoba / (razdelni_premer / 2)\n",
    "\n",
    "        u = 0\n",
    "        r_trenutni = 0\n",
    "        x_evo0 = [self.f_x_evolventa(osnovni_premer / 2, u)]\n",
    "        y_evo0 = [self.f_y_evolventa(osnovni_premer / 2, u)]\n",
    "        while r_trenutni < self.zunanji_premer / 2:\n",
    "            napaka = 0.00001  # korak po katerem se pomika cez točke  0.000002\n",
    "            u += napaka\n",
    "            x_trenutni = self.f_x_evolventa(osnovni_premer / 2, u)\n",
    "            y_trenutni = self.f_y_evolventa(osnovni_premer / 2, u)\n",
    "            x_evo0.append(x_trenutni)\n",
    "            y_evo0.append(y_trenutni)\n",
    "            r_trenutni = np.sqrt(x_trenutni ** 2 + y_trenutni ** 2)\n",
    "            if abs(r_trenutni - razdelni_premer / 2) <= ((razdelni_premer - osnovni_premer) / 2) / len(x_evo0):\n",
    "                xy_razdelni = (x_trenutni, y_trenutni)\n",
    "\n",
    "        zeljeno_stevilo_tock = 300  # število točk, ki jih uporabim na posameznem odseku. Če to želim zvečati,\n",
    "                                    # moram zmanjšati korak! Drugače analiza: \"Error: array without sequence.\"  500\n",
    "        korak_po_tockah = int(len(x_evo0) / zeljeno_stevilo_tock) + 1\n",
    "        x_evo1 = x_evo0[::korak_po_tockah]\n",
    "        y_evo1 = y_evo0[::korak_po_tockah]\n",
    "\n",
    "        phi = np.arctan(xy_razdelni[1] / xy_razdelni[0])    \n",
    "        x_evo1a, y_evo1a = self.obrni(x_evo1, y_evo1, -phi)\n",
    "\n",
    "        y_evo1_z = -y_evo1a  # zrcalno\n",
    "        x_evo2, y_evo2 = self.obrni(x_evo1a, y_evo1a, - krozni_kot_zoba / 2)\n",
    "        x_evo2_z, y_evo2_z = self.obrni(x_evo1a, y_evo1_z, krozni_kot_zoba / 2)\n",
    "        x_evo2_v = np.zeros(zeljeno_stevilo_tock) + x_evo2[-1]  # vmes\n",
    "        y_evo2_v = np.linspace(y_evo2_z[-1], y_evo2[-1], zeljeno_stevilo_tock)\n",
    "\n",
    "        xz0, yz0 = self.obrni(x_evo2_z, y_evo2_z, np.pi / 2 + krozni_korak)\n",
    "        xz1, yz1 = self.obrni(x_evo2_v, y_evo2_v, np.pi / 2 + krozni_korak)\n",
    "        xz2, yz2 = self.obrni(x_evo2[::-1], y_evo2[::-1], np.pi / 2 + krozni_korak)\n",
    "\n",
    "        xz3, yz3 = self.obrni(x_evo2_z, y_evo2_z, np.pi / 2)\n",
    "        xz4, yz4 = self.obrni(x_evo2_v, y_evo2_v, np.pi / 2)\n",
    "        xz5, yz5 = self.obrni(x_evo2[::-1], y_evo2[::-1], np.pi / 2)\n",
    "\n",
    "        xz6, yz6 = self.obrni(x_evo2_z, y_evo2_z, np.pi / 2 - krozni_korak)\n",
    "        xz7, yz7 = self.obrni(x_evo2_v, y_evo2_v, np.pi / 2 - krozni_korak)\n",
    "        xz8, yz8 = self.obrni(x_evo2[::-1], y_evo2[::-1], np.pi / 2 - krozni_korak)\n",
    "\n",
    "        self.x = np.array([xz0, xz1, xz2, xz3, xz4, xz5, xz6, xz7, xz8])\n",
    "        self.y = np.array([yz0, yz1, yz2, yz3, yz4, yz5, yz6, yz7, yz8])\n",
    "    \n",
    "    def obrni(self, seznam_x, seznam_y, kot):  # kot v rad\n",
    "        '''Ta funkcija nam služi le pri obračanju delov, ko sestavljamo zobnik. V nadaljevanju za vrtenje zobnika\n",
    "        uporabljamo metodo rotacija.'''\n",
    "        nov_seznam_x = []\n",
    "        nov_seznam_y = []\n",
    "        for x_z, y_z in zip(seznam_x, seznam_y):  # x_zacetni, y_zacetni\n",
    "            x_n = x_z * np.cos(kot) - y_z * np.sin(kot)  # novi x\n",
    "            y_n = x_z * np.sin(kot) + y_z * np.cos(kot)  # novi y\n",
    "            nov_seznam_x.append(x_n)\n",
    "            nov_seznam_y.append(y_n)\n",
    "        return (np.array(nov_seznam_x), np.array(nov_seznam_y))\n",
    "\n",
    "    def f_x_evolventa(self, a, u):\n",
    "        return a * (np.cos(u) + u * np.sin(u))\n",
    "\n",
    "    def f_y_evolventa(self, a, u):\n",
    "        return a * (np.sin(u) - u * np.cos(u))\n",
    "    \n",
    "    def rotacija(self, kot):  # kot v rad\n",
    "        '''Zavrti zobnik za kot \"kot\".'''\n",
    "        for i, odsek_x, odsek_y in zip(range(len(self.x)), self.x, self.y):\n",
    "            for j, x_z, y_z in zip(range(len(odsek_x)), odsek_x, odsek_y):\n",
    "                x_n = x_z * np.cos(kot) - y_z * np.sin(kot)  # novi x\n",
    "                y_n = x_z * np.sin(kot) + y_z * np.cos(kot)  # novi y\n",
    "                self.x[i][j] = x_n\n",
    "                self.y[i][j] = y_n\n",
    "    \n",
    "    def izris(self):\n",
    "        \"Izriše veriznik.\"\n",
    "        plt.plot(self.x.flatten(), self.y.flatten(), 'r')\n",
    "        plt.axis('equal')\n",
    "        plt.grid()\n"
   ]
  },
  {
   "cell_type": "markdown",
   "metadata": {},
   "source": [
    "### Preizkusa razredov"
   ]
  },
  {
   "cell_type": "code",
   "execution_count": 53,
   "metadata": {
    "scrolled": false
   },
   "outputs": [],
   "source": [
    "'''\n",
    "# Preizkus razreda clen:\n",
    "c = clen(podatki[0])\n",
    "c.rotacija(np.pi / 6)\n",
    "c.translacija_x(5)\n",
    "c.izris()\n",
    "''';\n"
   ]
  },
  {
   "cell_type": "code",
   "execution_count": 54,
   "metadata": {},
   "outputs": [],
   "source": [
    "'''\n",
    "# Preizkus razreda verižnik:\n",
    "v = Veriznik(podatki[0], 35)\n",
    "v.rotacija(-np.pi/10)\n",
    "v.izris()\n",
    "''';\n"
   ]
  },
  {
   "cell_type": "markdown",
   "metadata": {},
   "source": [
    "### Analiza"
   ]
  },
  {
   "cell_type": "code",
   "execution_count": 55,
   "metadata": {},
   "outputs": [],
   "source": [
    "def premicno_povprecje(array, st_tock):\n",
    "    na = []\n",
    "    st_pred = int((st_tock-1)/2)  # število točk pred in za sredinsko\n",
    "    na.append(array[0])\n",
    "    for i in range(1, st_pred):\n",
    "        na.append(np.average(array[0:i]))\n",
    "    for i in range(st_pred, int(len(array)-st_pred)):\n",
    "        na.append(np.average(array[i-int((st_tock-1)/2):i+st_pred]))\n",
    "    for i in range(1, st_pred + 1)[::-1]:\n",
    "        na.append(array[-i])\n",
    "    return na\n"
   ]
  },
  {
   "cell_type": "code",
   "execution_count": 56,
   "metadata": {
    "scrolled": true
   },
   "outputs": [],
   "source": [
    "class Analiza():\n",
    "    \n",
    "    '''Vzame podatke za clen in veriznik (podatki_i in z) in ju pribliza s funkcijo priblizaj.\n",
    "    Nato ju zavrti in vrne tocke kontakta.'''\n",
    "    \n",
    "    def __init__(self, podatki_i, z, kot_analize):\n",
    "        ime = podatki_i[0]\n",
    "        print(\"Obravnavamo vrsto: \", ime)\n",
    "        self.c = Clen(podatki_i)\n",
    "        self.v = Veriznik(podatki_i, z)\n",
    "        self.kot_analize = kot_analize\n",
    "        \n",
    "        # Skupni seznami\n",
    "        self.x_c = []\n",
    "        self.y_c = []\n",
    "        self.x_v = []\n",
    "        self.y_v = []\n",
    "        \n",
    "        self.priblizaj()\n",
    "        self.izris()\n",
    "        self.analiza = True\n",
    "        stevec = 1\n",
    "        while self.analiza == True:\n",
    "            if stevec % 15 == 0:  # izriše le vsako 15 - to\n",
    "                self.izris()\n",
    "            self.nov_korak_obravnave()\n",
    "            stevec += 1\n",
    "            \n",
    "        # Ogled in prilagajanje rezultatov\n",
    "        self.izris_ubirnice()\n",
    "        self.glajenje_ubirnice()\n",
    "        self.izris_ubirnice()\n",
    "        self.relativne_hitrosti()\n",
    "            \n",
    "    def priblizaj(self):\n",
    "        \n",
    "        '''Pribliza clen in verižnik v prvo situacijo za analizo'''\n",
    "        # Premik člena\n",
    "        self.c.translacija_y(self.v.zunanji_premer)\n",
    "\n",
    "        # Iskanje začetne zračnosti - gledam le na spoj med levim delom člena in levim zobom\n",
    "        min_razdalja = None\n",
    "        for i, (x_c, y_c) in enumerate(zip(self.c.x[3], self.c.y[3])):\n",
    "            for j, (x_v, y_v) in enumerate(zip(self.v.x[2], self.v.y[2])):\n",
    "                try:  # Zadnjega clena ne more, ker je index out of range [i+1]\n",
    "                    if abs(x_v - x_c) < abs(x_c - self.c.x[3][i+1])/2:  # and abs(x_v - x_c) < abs(x_v - self.v.x[[2],[j+1]])/2:\n",
    "                        razdalja = y_c - y_v\n",
    "                        if razdalja < 0:\n",
    "                            raise Exception(\"Se že sekata!\")\n",
    "                        elif min_razdalja == None or razdalja < min_razdalja[-1]:\n",
    "                            min_razdalja = [i, j, x_c, y_c, x_v, y_v, razdalja]\n",
    "                except:  # Za try mora vedno pridet še except.\n",
    "                    break\n",
    "        self.c.translacija_y(-min_razdalja[-1])\n",
    "        \n",
    "        # Pripenjanje v sezname\n",
    "        self.x_c.append(min_razdalja[2])\n",
    "        self.y_c.append(min_razdalja[5] - min_razdalja[-1])\n",
    "        self.x_v.append(min_razdalja[4])\n",
    "        self.y_v.append(min_razdalja[5])\n",
    "        \n",
    "    def nov_korak_obravnave(self):\n",
    "        '''Obrne zobnik, približa člen in vpiše točke kontakta'''\n",
    "        self.v.rotacija(-self.kot_analize)\n",
    "        \n",
    "        min_razdalja = None\n",
    "        for i, (x_c, y_c) in enumerate(zip(self.c.x[3], self.c.y[3])):\n",
    "            for j, (x_v, y_v) in enumerate(zip(self.v.x[2], self.v.y[2])):\n",
    "                try:  # Zadnjega clena ne more, ker je index out of range [i+1]\n",
    "                    if abs(y_v - y_c) < abs(y_c - self.c.y[3][i+1])/2 and abs(y_v - y_c) < abs(y_v - self.v.y[[2],[j+1]])/2:\n",
    "                        razdalja = x_v - x_c\n",
    "                        if razdalja < 0:\n",
    "                            raise Exception(\"Se ne sekata!\")\n",
    "                        elif min_razdalja == None or razdalja > min_razdalja[-1]:\n",
    "                            min_razdalja = [i, j, x_c, y_c, x_v, y_v, razdalja]\n",
    "                except:  # Za try mora vedno pridet še except.\n",
    "                    break\n",
    "\n",
    "        if min_razdalja:\n",
    "            self.c.translacija_x(min_razdalja[-1])\n",
    "\n",
    "            # Pripenjanje v sezname\n",
    "            self.x_c.append(min_razdalja[2])\n",
    "            self.y_c.append(min_razdalja[3] - min_razdalja[-1])\n",
    "            self.x_v.append(min_razdalja[4])\n",
    "            self.y_v.append(min_razdalja[5])\n",
    "            \n",
    "        else:\n",
    "            self.analiza = False  # Izklopi while zanko\n",
    "                      \n",
    "    def izris(self):\n",
    "        '''Izriše člen in verižnik.'''\n",
    "        self.c.izris()\n",
    "        self.v.izris()\n",
    "        plt.show()\n",
    "    \n",
    "    def izris_ubirnice(self):\n",
    "        # Predpostavka kontaktne točke verižnika in člena so enake - zanemarimo napako numerične metode.\n",
    "        plt.plot(self.x_v, self.y_v, 'g.')\n",
    "        plt.title(\"Ubirnica\")\n",
    "        plt.xlabel(\"mm\")\n",
    "        plt.ylabel(\"mm\")\n",
    "        plt.show()\n",
    "        \n",
    "    def glajenje_ubirnice(self):\n",
    "        '''Pogladim y vrednosti točk s premičnim povprečjem.'''\n",
    "        print(\"Glajenje ubirnice...\")\n",
    "        self.y_g = premicno_povprecje(self.y_v, 7)\n",
    "        self.y_v = self.y_g\n",
    "    \n",
    "    def relativne_hitrosti(self):\n",
    "        self.rel_hitrosti = []\n",
    "        self.koti_kontakta = []\n",
    "        self.koti_veriznika = []\n",
    "        kot_veriznika = np.pi / 2\n",
    "        for x, y in zip(self.x_v, self.y_v):\n",
    "            r = np.sqrt(x ** 2 + y ** 2)\n",
    "            v_obodna = omega * r\n",
    "            alpha = np.arctan(y / x)\n",
    "            if alpha < 0:\n",
    "                alpha += np.pi\n",
    "            phi = alpha - self.c.alpha_r\n",
    "            v_rel = v_obodna * np.cos(phi)\n",
    "            self.rel_hitrosti.append(v_rel)\n",
    "            self.koti_kontakta.append(np.rad2deg(alpha))\n",
    "            self.koti_veriznika.append(np.rad2deg(kot_veriznika))\n",
    "            kot_veriznika -= self.kot_analize\n",
    "            \n",
    "        # Izris\n",
    "        plt.plot(self.koti_kontakta, self.rel_hitrosti, '.')\n",
    "        plt.title('Relativne hitrosti v odvisnosti od kota kontakta')\n",
    "        plt.xlabel('°')\n",
    "        plt.ylabel(\"$\\\\frac{m}{s}$\")\n",
    "        plt.show()\n",
    "        \n",
    "        '''\n",
    "        plt.plot(self.koti_veriznika, self.rel_hitrosti, '.')\n",
    "        plt.title('Relativne hitrosti v odvisnosti od kota veriznika')\n",
    "        plt.xlabel('°')\n",
    "        plt.ylabel(\"$\\\\frac{m}{s}$\")\n",
    "        plt.show()\n",
    "        '''\n"
   ]
  },
  {
   "cell_type": "markdown",
   "metadata": {},
   "source": [
    "### Analize (morda samo z obliko 06)"
   ]
  },
  {
   "cell_type": "code",
   "execution_count": 58,
   "metadata": {
    "scrolled": false
   },
   "outputs": [
    {
     "name": "stdout",
     "output_type": "stream",
     "text": [
      "Obravnavamo vrsto:  06\n"
     ]
    },
    {
     "data": {
      "image/png": "[encoded data removed]",
      "text/plain": [
       "<Figure size 432x288 with 1 Axes>"
      ]
     },
     "metadata": {
      "needs_background": "light"
     },
     "output_type": "display_data"
    },
    {
     "data": {
      "image/png": "[encoded data removed]",
      "text/plain": [
       "<Figure size 432x288 with 1 Axes>"
      ]
     },
     "metadata": {
      "needs_background": "light"
     },
     "output_type": "display_data"
    },
    {
     "data": {
      "image/png": "[encoded data removed]",
      "text/plain": [
       "<Figure size 432x288 with 1 Axes>"
      ]
     },
     "metadata": {
      "needs_background": "light"
     },
     "output_type": "display_data"
    },
    {
     "data": {
      "image/png": "[encoded data removed]",
      "text/plain": [
       "<Figure size 432x288 with 1 Axes>"
      ]
     },
     "metadata": {
      "needs_background": "light"
     },
     "output_type": "display_data"
    },
    {
     "data": {
      "image/png": "[encoded data removed]",
      "text/plain": [
       "<Figure size 432x288 with 1 Axes>"
      ]
     },
     "metadata": {
      "needs_background": "light"
     },
     "output_type": "display_data"
    },
    {
     "name": "stdout",
     "output_type": "stream",
     "text": [
      "Glajenje ubirnice...\n"
     ]
    },
    {
     "data": {
      "image/png": "[encoded data removed]",
      "text/plain": [
       "<Figure size 432x288 with 1 Axes>"
      ]
     },
     "metadata": {
      "needs_background": "light"
     },
     "output_type": "display_data"
    },
    {
     "data": {
      "image/png": "[encoded data removed]",
      "text/plain": [
       "<Figure size 432x288 with 1 Axes>"
      ]
     },
     "metadata": {
      "needs_background": "light"
     },
     "output_type": "display_data"
    }
   ],
   "source": [
    "Analiza(podatki[0], 35, np.pi/300);  # Dobro: st tock obeh 500, pi/500, korak = 0.000002\n",
    "# Če želim pohitrit, spremeni št točk verižnika in\n",
    "# predvsem korak zanko prej -> \"napaka\".\n"
   ]
  },
  {
   "cell_type": "code",
   "execution_count": null,
   "metadata": {},
   "outputs": [],
   "source": []
  }
 ],
 "metadata": {
  "kernelspec": {
   "display_name": "Python 3",
   "language": "python",
   "name": "python3"
  },
  "language_info": {
   "codemirror_mode": {
    "name": "ipython",
    "version": 3
   },
   "file_extension": ".py",
   "mimetype": "text/x-python",
   "name": "python",
   "nbconvert_exporter": "python",
   "pygments_lexer": "ipython3",
   "version": "3.7.1"
  }
 },
 "nbformat": 4,
 "nbformat_minor": 2
}

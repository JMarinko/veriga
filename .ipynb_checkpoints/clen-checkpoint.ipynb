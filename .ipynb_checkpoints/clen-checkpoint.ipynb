{
 "cells": [
  {
   "cell_type": "code",
   "execution_count": 1,
   "metadata": {},
   "outputs": [],
   "source": [
    "import numpy as np\n",
    "from scipy import optimize as opt"
   ]
  },
  {
   "cell_type": "code",
   "execution_count": 2,
   "metadata": {},
   "outputs": [],
   "source": [
    "# Podatki\n",
    "alpha_k = 30\n",
    "alpha_r = np.deg2rad(alpha_k)\n",
    "pk = 9.52\n",
    "a = 0.8567 * pk\n",
    "f = 0.6128 * a\n",
    "L = 1.86 * pk\n",
    "h1 = 0.33 * pk\n",
    "h2 = 0.7 * pk\n",
    "h3 = 1.115 * pk\n",
    "\n",
    "# Pridobi iz standarda\n",
    "r0 = 28\n",
    "r1 = 2.6\n",
    "r2 = 5.5\n",
    "r3 = 1.2\n",
    "r4 = 14.3\n",
    "r5 = 1.8"
   ]
  },
  {
   "cell_type": "code",
   "execution_count": 3,
   "metadata": {},
   "outputs": [],
   "source": [
    "# AB\n",
    "def x1(t1, x01):\n",
    "    return x01 + r0 * np.cos(t1)\n",
    "def y1(t1, y01):\n",
    "    return y01 + r0 * np.sin(t1)\n",
    "# BC\n",
    "def x2(t2, x02):\n",
    "    return x02 + r1 * np.cos(t2)\n",
    "def y2(t2, y02):\n",
    "    return y02 + r1 * np.sin(t2)\n",
    "# CD\n",
    "def x3(t3, x03):\n",
    "    return x03 + r2 * np.cos(t3)\n",
    "def y3(t3, y03):\n",
    "    return y03 + r2 * np.sin(t3)\n",
    "# DE\n",
    "def x4(t4, x04):\n",
    "    return x04 + t4 * np.sin(alpha_r)\n",
    "def y4(t4, y04):\n",
    "    return y04 - t4 * np.cos(alpha_r)\n",
    "# EF\n",
    "def x5(t5, x05):\n",
    "    return x05 + r3 * np.cos(t5)\n",
    "def y5(t5, y05):\n",
    "    return y05 + r3 * np.sin(t5)\n",
    "# FG\n",
    "def x6(t6, x06):\n",
    "    return x06 + r4 * np.cos(t6)\n",
    "def y6(t6, y06):\n",
    "    return y06 + r4 * np.sin(t6)\n",
    "# GH\n",
    "def x7(t7, x07):\n",
    "    return x07 + r5 * np.cos(t7)\n",
    "def y7(t7, y07):\n",
    "    return y07 + r5 * np.sin(t7)"
   ]
  },
  {
   "cell_type": "code",
   "execution_count": 4,
   "metadata": {},
   "outputs": [],
   "source": [
    "def enacbe(priblizki):\n",
    "    t1A, t1B, t2B, t2C, t3C, t3D, t4D, t4E, t5E, t5F, t6F, t6G, t7G, t7H, x01, y01, x02, y02, x03, y03, x04, y04, x05, y05, x06, y06, x07, y07 = priblizki\n",
    "    # Zveznost x: 6\n",
    "    e1 = x2(t2B, x02) - x1(t1B, x01)\n",
    "    e2 = x3(t3C, x03) - x2(t2C, x02)\n",
    "    e3 = x4(t4D, x04) - x3(t3D, x03)\n",
    "    e4 = x5(t5E, x05) - x4(t4E, x04)\n",
    "    e5 = x6(t6F, x06) - x5(t5F, x05)\n",
    "    e6 = x7(t7G, x07) - x6(t6G, x06)\n",
    "    # Zveznost y: 6\n",
    "    e7 = y2(t2B, y02) - y1(t1B, y01)\n",
    "    e8 = y3(t3C, y03) - y2(t2C, y02)\n",
    "    e9 = y4(t4D, y04) - y3(t3D, y03)\n",
    "    e10 = y5(t5E, y05) - y4(t4E, y04)\n",
    "    e11 = y6(t6F, y06) - y5(t5F, y05)\n",
    "    e12 = y7(t7G, y07) - y6(t6G, y06)\n",
    "    # Odvodi: 8\n",
    "    e13 = np.pi / 2 - t1A\n",
    "    e14 = t2B - t1B\n",
    "    e15 = t3C - t2C\n",
    "    e16 = np.pi + alpha_r - t3D\n",
    "    e17 = t3D - t5E\n",
    "    e18 = t6F - t5F\n",
    "    e19 = t7G - np.pi - t6G\n",
    "    e20 = np.pi / 2 - t7H\n",
    "    # Ostalo: 8\n",
    "    e21 = 0.5 * a - x1(t1A, x01)\n",
    "    e22 = h1 - y1(t1A, y01)\n",
    "    e23 = 0.5 * a - 0.5 * L - x3(t3C, x03)\n",
    "    e24 = - f * np.cos(alpha_r) - x4(t4D, x04)\n",
    "    e25 = - f * np.sin(alpha_r) - y4(t4D, x04)\n",
    "    e26 = h1 - h3 - y5(t5F, y05)\n",
    "    e27 = h1 - h2 - y07\n",
    "    e28 = 0.5 * a - x7(t7H, x07)\n",
    "    return (e1, e2, e3, e4, e5, e6, e7, e8, e9, e10, e11, e12, e13, e14, e15, e16, e17, e18, e19, e20, e21, e22, e23, e24, e25, e26, e27, e28)"
   ]
  },
  {
   "cell_type": "code",
   "execution_count": 5,
   "metadata": {},
   "outputs": [
    {
     "name": "stdout",
     "output_type": "stream",
     "text": [
      "[1.5707963267948966, 1.825120515151018, 1.825120515151018, 2.8157345947987906, 2.8157345947987906, 3.665191429188092, -1.33917373929207, 2.4671142535385084, 3.665191429188092, 5.527349320495073, -0.755835986684513, -0.37236758968357986, -3.513960243273373, -4.71238898038469, 4.0778919999999985, -24.8584, -2.3125293811496066, -0.2754279548758738, 0.434862155260447, -1.2037811987670188, -3.6586906959079313, -5.113539677074949, -1.3859030845973506, -6.65012329467798, -10.918752079567815, 2.335130738420726, 4.077892, -3.5223999999999998]\n"
     ]
    }
   ],
   "source": [
    "zac_priblizki = np.ones(28)\n",
    "resitev = list(opt.fsolve(enacbe, zac_priblizki))\n",
    "\n",
    "# +- 2 * pi, da dobmo prave dele kroga\n",
    "for i, element in enumerate(resitev):\n",
    "    if i < 14 and (i != 7 or i != 8):\n",
    "        if element > 2 * np.pi:\n",
    "            resitev[i] = element - 2 * int(element / (2 * np.pi)) * np.pi\n",
    "        elif - element > 2 * np.pi:\n",
    "            resitev[i] = element + 2 * int(-element / (2 * np.pi)) * np.pi\n",
    "        if i % 2 == 1 and i < 12:\n",
    "            if resitev[i] < resitev[i - 1]:\n",
    "                resitev[i] += 2 * np.pi\n",
    "resitev[13] -= 2 * np.pi\n",
    "            \n",
    "t1A, t1B, t2B, t2C, t3C, t3D, t4D, t4E, t5E, t5F, t6F, t6G, t7G, t7H, x01, y01, x02, y02, x03, y03, x04, y04, x05, y05, x06, y06, x07, y07 = resitev\n",
    "print(resitev)\n",
    "\n",
    "# zapis v datoteko \"robne_vrednosti.txt\"\n",
    "with open(\"clen_prenos.txt\", 'w') as robne:\n",
    "    print(t1A, t1B, t2B, t2C, t3C, t3D, t4D, t4E, t5E, t5F, t6F, t6G, t7G, t7H, x01, y01, x02, y02, x03, y03, x04, y04, x05, y05, x06, y06, x07, y07, r0, r1, r2, r3, r4, r5, alpha_r, file=robne)"
   ]
  },
  {
   "cell_type": "code",
   "execution_count": null,
   "metadata": {},
   "outputs": [],
   "source": []
  }
 ],
 "metadata": {
  "kernelspec": {
   "display_name": "Python 3",
   "language": "python",
   "name": "python3"
  },
  "language_info": {
   "codemirror_mode": {
    "name": "ipython",
    "version": 3
   },
   "file_extension": ".py",
   "mimetype": "text/x-python",
   "name": "python",
   "nbconvert_exporter": "python",
   "pygments_lexer": "ipython3",
   "version": "3.7.0"
  }
 },
 "nbformat": 4,
 "nbformat_minor": 2
}

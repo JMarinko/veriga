{
 "cells": [
  {
   "cell_type": "code",
   "execution_count": 1,
   "metadata": {},
   "outputs": [],
   "source": [
    "import numpy as np\n",
    "from scipy import optimize as opt\n",
    "import matplotlib.pyplot as plt"
   ]
  },
  {
   "cell_type": "markdown",
   "metadata": {},
   "source": [
    "### Podatki DIN 8190"
   ]
  },
  {
   "cell_type": "code",
   "execution_count": 2,
   "metadata": {},
   "outputs": [],
   "source": [
    "# Oblika [ime, p, f, g1, g2, 2c, u, y]\n",
    "podatki = [['06', 9.525, 3.76, 10.9, 6.7, 3, 9, 0.6],\n",
    "           ['08', 12.7, 5.085, 14.45, 8.7, 4.2, 12.6, 0.6],\n",
    "           ['12', 19.05, 7.44, 21, 10.7, 1.3, 15, 0.5],\n",
    "           ['16', 25.4, 10.04, 27.7, 14, 1.8, 20, 0.5],\n",
    "           ['24', 38.1, 14.95, 41, 21, 2.8, 30, 0.5],\n",
    "           ['32', 50.8, 19.93, 55, 28, 3.6, 40, 0.5]]"
   ]
  },
  {
   "cell_type": "code",
   "execution_count": 60,
   "metadata": {
    "scrolled": true
   },
   "outputs": [],
   "source": [
    "class clen():\n",
    "    \n",
    "    def __init__(self, podatki_i):\n",
    "        ime, self.p, self.f, g1, g2, c, u, y = podatki_i\n",
    "\n",
    "        # Podatki\n",
    "        self.alpha_k = 30\n",
    "        self.alpha_r = np.deg2rad(self.alpha_k)\n",
    "        self.a = 0.8567 * self.p\n",
    "        self.f = 0.6128 * self.a  # ali upoštevam f iz standarda ali računskega\n",
    "        self.L = 1.86 * self.p\n",
    "        self.h1 = 0.33 * self.p\n",
    "        self.h2 = 0.7 * self.p\n",
    "        self.h3 = 1.115 * self.p\n",
    "\n",
    "        # Po izbiri\n",
    "        self.r0 = 28\n",
    "        self.r1 = 2.6\n",
    "        self.r2 = 5.5\n",
    "        self.r3 = 1.2\n",
    "        self.r4 = 14.3\n",
    "        self.r5 = 1.8\n",
    "    \n",
    "        # Resevanje\n",
    "        zac_priblizki = np.ones(28)\n",
    "        resitev = list(opt.fsolve(self.enacbe, zac_priblizki))\n",
    "\n",
    "        # +- 2 * pi, da dobmo prave dele kroga\n",
    "        for i, element in enumerate(resitev):\n",
    "            if i < 14 and (i != 7 or i != 8):\n",
    "                if element > 2 * np.pi:\n",
    "                    resitev[i] = element - 2 * int(element / (2 * np.pi)) * np.pi\n",
    "                elif - element > 2 * np.pi:\n",
    "                    resitev[i] = element + 2 * int(-element / (2 * np.pi)) * np.pi\n",
    "                if i % 2 == 1 and i < 12:\n",
    "                    if resitev[i] < resitev[i - 1]:\n",
    "                        resitev[i] += 2 * np.pi\n",
    "        if resitev[13] > 2 * np.pi:\n",
    "            resitev[13] -= 2 * np.pi\n",
    "        if resitev[13] > resitev[12]:\n",
    "            resitev[12] += 2 * np.pi\n",
    "\n",
    "        t1A, t1B, t2B, t2C, t3C, t3D, t4D, t4E, t5E, t5F, t6F, t6G, t7G, t7H, x01, y01, x02, y02, x03, y03, x04, y04, x05, y05, x06, y06, x07, y07 = resitev\n",
    "\n",
    "        # Zbiranje rezultatov\n",
    "\n",
    "        st_t_c = 100 # Število_točk_člen -> število točk, ki jih uporabim na posamezni krivulji\n",
    "        self.x0 = []\n",
    "        self.y0 = []\n",
    "        funkcije = [self.x1, self.y1, self.x2, self.y2, self.x3, self.y3, self.x4, self.y4, self.x5, self.y5, self.x6, self.y6, self.x7, self.y7]\n",
    "        konst = [x01, y01, x02, y02, x03, y03, x04, y04, x05, y05, x06, y06, x07, y07]\n",
    "        for i in range(0, 14, 2):\n",
    "            zac, kon = resitev[i], resitev[i+1]\n",
    "            t = np.linspace(zac, kon, st_t_c)\n",
    "            self.x0.append(funkcije[i](t, konst[i])-self.a / 2)  # Doda posamezen odsek x na skupni seznam tocke_clen_x\n",
    "            self.y0.append(funkcije[i+1](t, konst[i+1]))  # Doda posamezen odsek y na skupni seznam tocke_clen_y\n",
    "        \n",
    "        self.x = self.x0[::]\n",
    "        self.y = self.y0[::]\n",
    "        for i in range(len(self.x)):\n",
    "            self.x.append(-self.x0[-(i+1)][::-1])\n",
    "            self.y.append(self.y0[-(i+1)][::-1])\n",
    "        self.x = np.array(self.x)\n",
    "        self.y = np.array(self.y)\n",
    "    \n",
    "    # Enacbe\n",
    "    # AB\n",
    "    def x1(self, t1, x01):\n",
    "        return x01 + self.r0 * np.cos(t1)\n",
    "    def y1(self, t1, y01):\n",
    "        return y01 + self.r0 * np.sin(t1)\n",
    "    # BC\n",
    "    def x2(self, t2, x02):\n",
    "        return x02 + self.r1 * np.cos(t2)\n",
    "    def y2(self, t2, y02):\n",
    "        return y02 + self.r1 * np.sin(t2)\n",
    "    # CD\n",
    "    def x3(self, t3, x03):\n",
    "        return x03 + self.r2 * np.cos(t3)\n",
    "    def y3(self, t3, y03):\n",
    "        return y03 + self.r2 * np.sin(t3)\n",
    "    # DE\n",
    "    def x4(self, t4, x04):\n",
    "        return x04 + t4 * np.sin(self.alpha_r)\n",
    "    def y4(self, t4, y04):\n",
    "        return y04 - t4 * np.cos(self.alpha_r)\n",
    "    # EF\n",
    "    def x5(self, t5, x05):\n",
    "        return x05 + self.r3 * np.cos(t5)\n",
    "    def y5(self, t5, y05):\n",
    "        return y05 + self.r3 * np.sin(t5)\n",
    "    # FG\n",
    "    def x6(self, t6, x06):\n",
    "        return x06 + self.r4 * np.cos(t6)\n",
    "    def y6(self, t6, y06):\n",
    "        return y06 + self.r4 * np.sin(t6)\n",
    "    # GH\n",
    "    def x7(self, t7, x07):\n",
    "        return x07 + self.r5 * np.cos(t7)\n",
    "    def y7(self, t7, y07):\n",
    "        return y07 + self.r5 * np.sin(t7)\n",
    "    \n",
    "    # Sistem enacb\n",
    "    def enacbe(self, priblizki):\n",
    "        t1A, t1B, t2B, t2C, t3C, t3D, t4D, t4E, t5E, t5F, t6F, t6G, t7G, t7H, x01, y01, x02, y02, x03, y03, x04, y04, x05, y05, x06, y06, x07, y07 = priblizki\n",
    "        # Zveznost x: 6\n",
    "        e1 = self.x2(t2B, x02) - self.x1(t1B, x01)\n",
    "        e2 = self.x3(t3C, x03) - self.x2(t2C, x02)\n",
    "        e3 = self.x4(t4D, x04) - self.x3(t3D, x03)\n",
    "        e4 = self.x5(t5E, x05) - self.x4(t4E, x04)\n",
    "        e5 = self.x6(t6F, x06) - self.x5(t5F, x05)\n",
    "        e6 = self.x7(t7G, x07) - self.x6(t6G, x06)\n",
    "        # Zveznost y: 6\n",
    "        e7 = self.y2(t2B, y02) - self.y1(t1B, y01)\n",
    "        e8 = self.y3(t3C, y03) - self.y2(t2C, y02)\n",
    "        e9 = self.y4(t4D, y04) - self.y3(t3D, y03)\n",
    "        e10 = self.y5(t5E, y05) - self.y4(t4E, y04)\n",
    "        e11 = self.y6(t6F, y06) - self.y5(t5F, y05)\n",
    "        e12 = self.y7(t7G, y07) - self.y6(t6G, y06)\n",
    "        # Odvodi: 8\n",
    "        e13 = np.pi / 2 - t1A\n",
    "        e14 = t2B - t1B\n",
    "        e15 = t3C - t2C\n",
    "        e16 = np.pi + self.alpha_r - t3D\n",
    "        e17 = t3D - t5E\n",
    "        e18 = t6F - t5F\n",
    "        e19 = t7G - np.pi - t6G\n",
    "        e20 = np.pi / 2 - t7H\n",
    "        # Ostalo: 8\n",
    "        e21 = 0.5 * self.a - self.x1(t1A, x01)\n",
    "        e22 = self.h1 - self.y1(t1A, y01)\n",
    "        e23 = 0.5 * self.a - 0.5 * self.L - self.x3(t3C, x03)\n",
    "        e24 = - self.f * np.cos(self.alpha_r) - self.x4(t4D, x04)\n",
    "        e25 = - self.f * np.sin(self.alpha_r) - self.y4(t4D, x04)\n",
    "        e26 = self.h1 - self.h3 - self.y5(t5F, y05)\n",
    "        e27 = self.h1 - self.h2 - y07\n",
    "        e28 = 0.5 * self.a - self.x7(t7H, x07)\n",
    "        return (e1, e2, e3, e4, e5, e6, e7, e8, e9, e10, e11, e12, e13, e14, e15, e16, e17, e18, e19, e20, e21, e22, e23, e24, e25, e26, e27, e28)\n",
    "    \n",
    "    def izris(self):\n",
    "        plt.plot(self.x.flatten(), self.y.flatten())\n",
    "        plt.axis('equal')\n",
    "        plt.grid()\n",
    "        plt.show()"
   ]
  },
  {
   "cell_type": "code",
   "execution_count": 61,
   "metadata": {
    "scrolled": false
   },
   "outputs": [
    {
     "data": {
      "image/png": "[encoded data removed]",
      "text/plain": [
       "<Figure size 432x288 with 1 Axes>"
      ]
     },
     "metadata": {
      "needs_background": "light"
     },
     "output_type": "display_data"
    }
   ],
   "source": [
    "r = clen(podatki[0])"
   ]
  },
  {
   "cell_type": "markdown",
   "metadata": {},
   "source": [
    "### Vrtenje člena"
   ]
  },
  {
   "cell_type": "code",
   "execution_count": 7,
   "metadata": {},
   "outputs": [],
   "source": [
    "def obrni(seznam_x, seznam_y, kot):  # kot v rad\n",
    "    nov_seznam_x = []\n",
    "    nov_seznam_y = []\n",
    "    for x_z, y_z in zip(seznam_x, seznam_y):  # x_zacetni, y_zacetni\n",
    "        x_n = x_z * np.cos(kot) - y_z * np.sin(kot)  # novi x\n",
    "        y_n = x_z * np.sin(kot) + y_z * np.cos(kot)  # novi y\n",
    "        nov_seznam_x.append(x_n)\n",
    "        nov_seznam_y.append(y_n)\n",
    "    return (np.array(nov_seznam_x), np.array(nov_seznam_y))"
   ]
  },
  {
   "cell_type": "code",
   "execution_count": 8,
   "metadata": {},
   "outputs": [
    {
     "data": {
      "image/png": "[encoded data removed]",
      "text/plain": [
       "<Figure size 432x288 with 1 Axes>"
      ]
     },
     "metadata": {
      "needs_background": "light"
     },
     "output_type": "display_data"
    }
   ],
   "source": [
    "# Preizkus vrtenja\n",
    "obrnjen_x, obrnjen_y = obrni(tocke_clen_x, tocke_clen_y, np.pi/6)\n",
    "plt.plot(obrnjen_x, obrnjen_y)\n",
    "plt.axis('equal')\n",
    "plt.show()"
   ]
  },
  {
   "cell_type": "markdown",
   "metadata": {},
   "source": [
    "### Verižnik - Typ nach DIN 8190"
   ]
  },
  {
   "cell_type": "code",
   "execution_count": 28,
   "metadata": {},
   "outputs": [],
   "source": [
    "# http://www.otvinta.com/gear.html\n",
    "# predloga strojni elementi 2\n",
    "# http://jamesgregson.blogspot.com/2012/05/python-involute-spur-gear-script.html"
   ]
  },
  {
   "cell_type": "code",
   "execution_count": 36,
   "metadata": {
    "scrolled": false
   },
   "outputs": [],
   "source": [
    "'''def kroznica_izris(r, phi_z, phi_k):\n",
    "    st = 30\n",
    "    return(r * np.cos(np.linspace(phi_z, phi_k, st)), r * np.sin(np.linspace(phi_z, phi_k, st)))'''\n",
    "\n",
    "def f_x_evolventa(a, u):\n",
    "    return a * (np.cos(u) + u * np.sin(u))\n",
    "\n",
    "def f_y_evolventa(a, u):\n",
    "    return a * (np.sin(u) - u * np.cos(u))\n",
    "\n",
    "def veriznik(podatki_i, z):\n",
    "    ime, p, f, g1, g2, c, u, y = podatki_i\n",
    "    \n",
    "    razdelni_premer = (z * p) / np.pi\n",
    "    osnovni_premer = razdelni_premer * np.cos(alpha_r)\n",
    "    addendum = 1 * p / np.pi\n",
    "    dedendum = 1.25 * p / np.pi\n",
    "    zunanji_premer = razdelni_premer + 2 * addendum\n",
    "    krozni_korak = p / (razdelni_premer / 2)\n",
    "    zracnost = 0.05  # zračnost - luknja in zob na razdelnem krogu nista točno 1/2, ampak je zob malo ožji\n",
    "    krozna_debelina_zoba = p / (2 + zracnost)\n",
    "    krozni_kot_zoba = krozna_debelina_zoba / (razdelni_premer / 2)\n",
    "    \n",
    "    u = 0\n",
    "    r_trenutni = 0\n",
    "    x_evo0 = [f_x_evolventa(osnovni_premer / 2, u)]\n",
    "    y_evo0 = [f_y_evolventa(osnovni_premer / 2, u)]\n",
    "    while r_trenutni < zunanji_premer / 2:\n",
    "        napaka = 0.0001  # korak po katerem se pomika cez točke\n",
    "        u += napaka\n",
    "        x_trenutni = f_x_evolventa(osnovni_premer / 2, u)\n",
    "        y_trenutni = f_y_evolventa(osnovni_premer / 2, u)\n",
    "        x_evo0.append(x_trenutni)\n",
    "        y_evo0.append(y_trenutni)\n",
    "        r_trenutni = np.sqrt(x_trenutni ** 2 + y_trenutni ** 2)\n",
    "        if abs(r_trenutni - razdelni_premer / 2) <= ((razdelni_premer - osnovni_premer) / 2) / len(x_evo0):\n",
    "            xy_razdelni = (x_trenutni, y_trenutni)\n",
    "            \n",
    "    zeljeno_stevilo_tock = 50\n",
    "    korak_po_tockah = int(len(x_evo0) / zeljeno_stevilo_tock) + 1\n",
    "    x_evo1 = x_evo0[::korak_po_tockah]\n",
    "    y_evo1 = y_evo0[::korak_po_tockah]\n",
    "    \n",
    "    phi = np.arctan(xy_razdelni[1] / xy_razdelni[0])    \n",
    "    x_evo1a, y_evo1a = obrni(x_evo1, y_evo1, -phi)\n",
    "    \n",
    "    y_evo1_z = -y_evo1a  # zrcalno\n",
    "    x_evo2, y_evo2 = obrni(x_evo1a, y_evo1a, - krozni_kot_zoba / 2)\n",
    "    x_evo2_z, y_evo2_z = obrni(x_evo1a, y_evo1_z, krozni_kot_zoba / 2)\n",
    "    x_evo2_v = np.zeros(zeljeno_stevilo_tock) + x_evo2[-1]  # vmes\n",
    "    y_evo2_v = np.linspace(y_evo2_z[-1], y_evo2[-1], zeljeno_stevilo_tock)\n",
    "    \n",
    "    xz11, yz11 = obrni(x_evo2_z, y_evo2_z, np.pi / 2 + krozni_korak)\n",
    "    xz12, yz12 = obrni(x_evo2_v, y_evo2_v, np.pi / 2 + krozni_korak)\n",
    "    xz13, yz13 = obrni(x_evo2[::-1], y_evo2[::-1], np.pi / 2 + krozni_korak)\n",
    "    \n",
    "    xz21, yz21 = obrni(x_evo2_z, y_evo2_z, np.pi / 2)\n",
    "    xz22, yz22 = obrni(x_evo2_v, y_evo2_v, np.pi / 2)\n",
    "    xz23, yz23 = obrni(x_evo2[::-1], y_evo2[::-1], np.pi / 2)\n",
    "    \n",
    "    xz31, yz31 = obrni(x_evo2_z, y_evo2_z, np.pi / 2 - krozni_korak)\n",
    "    xz32, yz32 = obrni(x_evo2_v, y_evo2_v, np.pi / 2 - krozni_korak)\n",
    "    xz33, yz33 = obrni(x_evo2[::-1], y_evo2[::-1], np.pi / 2 - krozni_korak)\n",
    "    \n",
    "    xz = np.array([[xz11, xz12, xz13],\n",
    "                   [xz21, xz22, xz23],\n",
    "                   [xz31, xz32, xz33]])\n",
    "    \n",
    "    yz = np.array([[yz11, yz12, yz13],\n",
    "                   [yz21, yz22, yz23],\n",
    "                   [yz31, yz32, yz33]])\n",
    "    \n",
    "    return(xz, yz)"
   ]
  },
  {
   "cell_type": "code",
   "execution_count": 35,
   "metadata": {},
   "outputs": [
    {
     "data": {
      "image/png": "[encoded data removed]",
      "text/plain": [
       "<Figure size 432x288 with 1 Axes>"
      ]
     },
     "metadata": {
      "needs_background": "light"
     },
     "output_type": "display_data"
    }
   ],
   "source": [
    "xz, yz = tvori_veriznik(podatki[0], 30)\n",
    "plt.plot(xz.flatten(), yz.flatten())\n",
    "plt.axis('equal')\n",
    "plt.show()"
   ]
  },
  {
   "cell_type": "code",
   "execution_count": 20,
   "metadata": {},
   "outputs": [
    {
     "data": {
      "image/png": "[encoded data removed]",
      "text/plain": [
       "<Figure size 432x288 with 1 Axes>"
      ]
     },
     "metadata": {
      "needs_background": "light"
     },
     "output_type": "display_data"
    }
   ],
   "source": [
    "from gears import*\n",
    "p = 9.525\n",
    "pa = 30\n",
    "z= 20\n",
    "x,y = gears_make_gear(pa, z, p)\n",
    "plt.plot(x,y)\n",
    "plt.axis('equal')\n",
    "plt.show()"
   ]
  },
  {
   "cell_type": "markdown",
   "metadata": {},
   "source": [
    "## Zobnik in člen"
   ]
  },
  {
   "cell_type": "code",
   "execution_count": 16,
   "metadata": {},
   "outputs": [
    {
     "data": {
      "image/png": "[encoded data removed]",
      "text/plain": [
       "<Figure size 432x288 with 1 Axes>"
      ]
     },
     "metadata": {
      "needs_background": "light"
     },
     "output_type": "display_data"
    }
   ],
   "source": [
    "# Začetni položaj\n",
    "# Premik člena\n",
    "x_clen = tocke_clen_x - 0.5 * a\n",
    "y_premik = - min(tocke_clen_y) + d / 2 - 1.4 * m  # Zadnje 1.4 ne sme biti\n",
    "y_clen = tocke_clen_y + y_premik\n",
    "\n",
    "# Zasuk zoba\n",
    "x_zob, y_zob = obrni(x_zob0, y_zob0, np.pi / 2)\n",
    "\n",
    "# Odseki za izračune\n",
    "x_clen_rac = x_clen[5 * st_t_c: 6 * st_t_c + 1]\n",
    "y_clen_rac = y_clen[5 * st_t_c: 6 * st_t_c + 1]\n",
    "x_zob_rac = x_zob[: st_t_z + 1]  # enega več vzamem, le zato,\n",
    "# da z računanjem zadnjega koraka v for zanki, ni treba izpustiti zadnjega člena\n",
    "y_zob_rac = y_zob[: st_t_z]\n",
    "\n",
    "# Iskanje začetne zračnosti\n",
    "min_razdalja = None\n",
    "for i, (x_c, y_c) in enumerate(zip(x_clen_rac, y_clen_rac)):\n",
    "    for j, (x_z, y_z) in enumerate(zip(x_zob_rac[:-2], y_zob_rac)):\n",
    "        razdalja = x_z - x_c\n",
    "        if abs(y_z - y_c) <= 2 * abs(y_zob_rac[j + 1] - y_z) and (min_razdalja == None or razdalja < min_razdalja[-1]):\n",
    "            min_razdalja = [i, j, x_c, y_c, x_z, y_z, razdalja]\n",
    "\n",
    "# Če je števec enak 0 je vzelo le prvo točko - ni več skupne točke - prenehaj obravnavo\n",
    "\n",
    "# Nastavitev na točen začetek\n",
    "x_clen += min_razdalja[-1]\n",
    "\n",
    "plt.plot(x_clen, y_clen)\n",
    "plt.plot(x_zob, y_zob)\n",
    "plt.axis('equal')\n",
    "plt.grid()\n",
    "plt.show()\n",
    "\n",
    "# Pripenjanje v skupni seznam\n",
    "x_cs = []\n",
    "y_cs = []\n",
    "x_zs = []\n",
    "y_zs = []\n",
    "razdalja_s = []\n",
    "\n",
    "x_cs.append(min_razdalja[2] + min_razdalja[-1])\n",
    "y_cs.append(min_razdalja[3])\n",
    "x_zs.append(min_razdalja[4])\n",
    "y_zs.append(min_razdalja[5])\n",
    "razdalja_s.append(np.sqrt((x_cs[-1] - x_zs[-1]) ** 2 + (y_cs[-1] - y_zs[-1]) ** 2))"
   ]
  },
  {
   "cell_type": "markdown",
   "metadata": {},
   "source": [
    "### Analiza"
   ]
  },
  {
   "cell_type": "code",
   "execution_count": 19,
   "metadata": {
    "scrolled": false
   },
   "outputs": [
    {
     "ename": "TypeError",
     "evalue": "'NoneType' object is not subscriptable",
     "output_type": "error",
     "traceback": [
      "\u001b[1;31m---------------------------------------------------------------------------\u001b[0m",
      "\u001b[1;31mTypeError\u001b[0m                                 Traceback (most recent call last)",
      "\u001b[1;32m<ipython-input-19-db72ec28f4f0>\u001b[0m in \u001b[0;36m<module>\u001b[1;34m\u001b[0m\n\u001b[0;32m     33\u001b[0m \u001b[1;33m\u001b[0m\u001b[0m\n\u001b[0;32m     34\u001b[0m     \u001b[1;31m# Nastavitev na točen začetek\u001b[0m\u001b[1;33m\u001b[0m\u001b[1;33m\u001b[0m\u001b[1;33m\u001b[0m\u001b[0m\n\u001b[1;32m---> 35\u001b[1;33m     \u001b[0mx_clen\u001b[0m \u001b[1;33m+=\u001b[0m \u001b[0mmin_razdalja\u001b[0m\u001b[1;33m[\u001b[0m\u001b[1;33m-\u001b[0m\u001b[1;36m1\u001b[0m\u001b[1;33m]\u001b[0m\u001b[1;33m\u001b[0m\u001b[1;33m\u001b[0m\u001b[0m\n\u001b[0m\u001b[0;32m     36\u001b[0m \u001b[1;33m\u001b[0m\u001b[0m\n\u001b[0;32m     37\u001b[0m     \u001b[0mplt\u001b[0m\u001b[1;33m.\u001b[0m\u001b[0mplot\u001b[0m\u001b[1;33m(\u001b[0m\u001b[0mx_clen\u001b[0m\u001b[1;33m,\u001b[0m \u001b[0my_clen\u001b[0m\u001b[1;33m)\u001b[0m\u001b[1;33m\u001b[0m\u001b[1;33m\u001b[0m\u001b[0m\n",
      "\u001b[1;31mTypeError\u001b[0m: 'NoneType' object is not subscriptable"
     ]
    }
   ],
   "source": [
    "x_clen = x_clen_rac[:]\n",
    "y_clen = y_clen_rac[:]\n",
    "x_zob = x_zob_rac[:]\n",
    "y_zob = y_zob_rac[:]\n",
    "\n",
    "korak = np.pi / 100\n",
    "\n",
    "while True:  # Ustavi ga \"break\"\n",
    "    \n",
    "    # Obrnemo zobnik\n",
    "    x_zob, y_zob = obrni(x_zob, y_zob, -korak)\n",
    "    # kot_absolutni -= korak\n",
    "    \n",
    "    x_clen_rac = x_clen[5 * st_t_c: 6 * st_t_c + 1]\n",
    "    y_clen_rac = y_clen[5 * st_t_c: 6 * st_t_c + 1]\n",
    "    x_zob_rac = x_zob[: st_t_z + 1]  # enega več vzamem, le zato,\n",
    "    # da z računanjem zadnjega koraka v for zanki, ni treba izpustiti zadnjega člena\n",
    "    y_zob_rac = y_zob[: st_t_z]\n",
    "   \n",
    "    # Iskanje začetne zračnosti\n",
    "    min_razdalja = None\n",
    "    stevec = -1\n",
    "    for i, (x_c, y_c) in enumerate(zip(x_clen_rac, y_clen_rac)):\n",
    "        for j, (x_z, y_z) in enumerate(zip(x_zob_rac[:-2], y_zob_rac)):\n",
    "            razdalja = x_z - x_c\n",
    "            if abs(y_z - y_c) <= 2 * abs(y_zob_rac[j + 1] - y_z) and (min_razdalja == None or razdalja < min_razdalja[-1]):        \n",
    "                stevec +=1\n",
    "                min_razdalja = [i, j, x_c, y_c, x_z, y_z, razdalja]\n",
    "\n",
    "    # Če je števec enak 0 je vzelo le prvo točko - ni več skupne točke - prenehaj obravnavo\n",
    "    if stevec == 0:\n",
    "        break\n",
    "        \n",
    "    # Nastavitev na točen začetek\n",
    "    x_clen += min_razdalja[-1]\n",
    "    \n",
    "    plt.plot(x_clen, y_clen)\n",
    "    plt.plot(x_zob, y_zob)\n",
    "    plt.axis('equal')\n",
    "    plt.grid()\n",
    "    plt.show()\n",
    "\n",
    "    # Pripenjanje v skupni seznam\n",
    "    x_cs.append(min_razdalja[2] + min_razdalja[-1])\n",
    "    y_cs.append(min_razdalja[3])\n",
    "    x_zs.append(min_razdalja[4])\n",
    "    y_zs.append(min_razdalja[5])\n",
    "    razdalja_s.append(np.sqrt((x_cs[-1] - x_zs[-1]) ** 2 + (y_cs[-1] - y_zs[-1]) ** 2))"
   ]
  },
  {
   "cell_type": "code",
   "execution_count": null,
   "metadata": {},
   "outputs": [],
   "source": []
  }
 ],
 "metadata": {
  "kernelspec": {
   "display_name": "Python 3",
   "language": "python",
   "name": "python3"
  },
  "language_info": {
   "codemirror_mode": {
    "name": "ipython",
    "version": 3
   },
   "file_extension": ".py",
   "mimetype": "text/x-python",
   "name": "python",
   "nbconvert_exporter": "python",
   "pygments_lexer": "ipython3",
   "version": "3.7.1"
  }
 },
 "nbformat": 4,
 "nbformat_minor": 2
}

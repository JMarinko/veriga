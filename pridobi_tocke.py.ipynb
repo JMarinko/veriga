{
 "cells": [
  {
   "cell_type": "code",
   "execution_count": 28,
   "metadata": {
    "scrolled": false
   },
   "outputs": [],
   "source": [
    "import matplotlib.pyplot as plt\n",
    "\n",
    "def pridobi_tocke(velikost):\n",
    "    x = []\n",
    "    y = []\n",
    "    with open(f\"..\\\\cleni\\\\{velikost}.IGS\") as dat:\n",
    "        a = dat.readlines()\n",
    "        for line in a:\n",
    "            if line[-9] == 'P' and line.count(',') == 4:\n",
    "                line = line.split(',')\n",
    "                if line[3] == '0.':\n",
    "                    x.append(float(line[1]))\n",
    "                    y.append(float(line[2]))\n",
    "\n",
    "    # Da je zvezno dodaj prvo točko še na koncu\n",
    "    x.append(x[0])\n",
    "    y.append(y[0])\n",
    "\n",
    "    plt.plot(x, y)\n",
    "    plt.show()\n",
    "    \n",
    "    return x, y"
   ]
  }
 ],
 "metadata": {
  "kernelspec": {
   "display_name": "Python 3",
   "language": "python",
   "name": "python3"
  },
  "language_info": {
   "codemirror_mode": {
    "name": "ipython",
    "version": 3
   },
   "file_extension": ".py",
   "mimetype": "text/x-python",
   "name": "python",
   "nbconvert_exporter": "python",
   "pygments_lexer": "ipython3",
   "version": "3.7.1"
  }
 },
 "nbformat": 4,
 "nbformat_minor": 2
}

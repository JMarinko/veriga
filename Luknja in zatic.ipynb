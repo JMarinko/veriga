{
 "cells": [
  {
   "cell_type": "markdown",
   "metadata": {},
   "source": [
    "## Luknja"
   ]
  },
  {
   "cell_type": "code",
   "execution_count": null,
   "metadata": {},
   "outputs": [],
   "source": [
    "gama = np.deg2rad(3.67)\n",
    "pch = 9.518\n",
    "ro1 = 0.165 * pch\n",
    "Hb = 0.425 * pch\n",
    "Hb_ = 0.415 * pch\n",
    "\n",
    "ro2 = 31.5\n",
    "ro3 = 0.12\n",
    "ro4 = 8.9"
   ]
  },
  {
   "cell_type": "code",
   "execution_count": 304,
   "metadata": {},
   "outputs": [],
   "source": [
    "def u1(z1, u01):\n",
    "    return u01 + ro1 * np.cos(z1)\n",
    "def w1(z1, w01):\n",
    "    return w01 + ro1 * np.sin(z1)\n",
    "\n",
    "def u2(z2, u02):\n",
    "    return u02 + ro2 * np.cos(z2)\n",
    "def w2(z2, w02):\n",
    "    return w02 + ro2 * np.sin(z2)\n",
    "\n",
    "def u3(z3, u03):\n",
    "    return u03 + ro3 * np.cos(z3)\n",
    "def w3(z3, w03):\n",
    "    return w03 + ro3 * np.sin(z3)\n",
    "\n",
    "def u4(z4, u04):\n",
    "    return u04 + ro4 * np.cos(z4)\n",
    "def w4(z4, w04):\n",
    "    return w04 + ro4 * np.sin(z4)"
   ]
  },
  {
   "cell_type": "code",
   "execution_count": 305,
   "metadata": {},
   "outputs": [],
   "source": [
    "def enacbe_luknja(pri_luknja):\n",
    "    z1A, z1B, z2B, z2C, z3C, z3D, z4D, z4E, u01, w01, u02, w02, u03, w03, u04, w04 = pri_luknja\n",
    "    # zveznost x: 3\n",
    "    e1 = u2(z2B, u02) - u1(z1B, u01)\n",
    "    e2 = u3(z3C, u03) - u2(z2C, u02)\n",
    "    e3 = u4(z4D, u04) - u3(z3D, u03)\n",
    "    # Zveznost y: 3\n",
    "    e4 = w2(z2B, w02) - w1(z1B, w01)\n",
    "    e5 = w3(z3C, w03) - w2(z2C, w02)\n",
    "    e6 = w4(z4D, w04) - w3(z3D, w03)\n",
    "    # Odvodi: 5\n",
    "    e7 = z1A\n",
    "    e8 = z2B - z1B\n",
    "    e9 = z3C - z2C\n",
    "    e10 = z4D - z3D + np.pi\n",
    "    e11 = z4E\n",
    "    # Ostalo: 5\n",
    "    e12 = u01\n",
    "    e13 = w01\n",
    "    e14 = ro1 - Hb - u3(z3D, u03)\n",
    "    e15 = ro1 - Hb_ - u4(z4E, u04)\n",
    "    e16 = w04\n",
    "    return (e1, e2, e3, e4, e5, e6, e7, e8, e9, e10, e11, e12, e13, e14, e15, e16)"
   ]
  },
  {
   "cell_type": "code",
   "execution_count": 306,
   "metadata": {},
   "outputs": [
    {
     "name": "stdout",
     "output_type": "stream",
     "text": [
      "[1.52613425228916e-24, 1.5914346266658432, 1.5914346266658432, 1.6657001683431139, 1.6657001683431139, 3.287972284866576, 0.1463796312767829, 7.138754028639753e-24, -2.227821133887969e-21, -3.833786950614599e-21, 0.6176507659792217, -29.9231561428264, -2.3559633258426573, 1.315634154476691, -11.2795, 1.2375874296827626e-21]\n"
     ]
    }
   ],
   "source": [
    "pri_luknja = np.ones(16)\n",
    "resitev_luknja = list(opt.fsolve(enacbe_luknja, pri_luknja))\n",
    "\n",
    "print(resitev_luknja)\n",
    "z1A, z1B, z2B, z2C, z3C, z3D, z4D, z4E, u01, w01, u02, w02, u03, w03, u04, w04 = resitev_luknja"
   ]
  },
  {
   "cell_type": "code",
   "execution_count": 307,
   "metadata": {},
   "outputs": [
    {
     "data": {
      "image/png": "[encoded data removed]",
      "text/plain": [
       "<Figure size 432x288 with 1 Axes>"
      ]
     },
     "metadata": {
      "needs_background": "light"
     },
     "output_type": "display_data"
    }
   ],
   "source": [
    "funkcije = [u1, w1, u2, w2, u3, w3, u4, w4]\n",
    "konst = [u01, w01, u02, w02, u03, w03, u04, w04]\n",
    "for i in range(0, 8, 2):\n",
    "    zac, kon = resitev_luknja[i], resitev_luknja[i+1]\n",
    "    t = np.linspace(zac, kon, 20)\n",
    "    plt.plot(funkcije[i](t, konst[i]), funkcije[i+1](t, konst[i+1]))\n",
    "    plt.plot(funkcije[i](t, konst[i]), -funkcije[i+1](t, konst[i+1]))\n",
    "plt.axis('equal')\n",
    "plt.grid()\n",
    "plt.show()"
   ]
  },
  {
   "cell_type": "markdown",
   "metadata": {},
   "source": [
    "## Zatič"
   ]
  },
  {
   "cell_type": "code",
   "execution_count": 308,
   "metadata": {},
   "outputs": [],
   "source": [
    "Sm = 0.07 * pch\n",
    "PH = Sm + ro1 - Hb\n",
    "PH_ = Sm + ro1 - Hb_\n",
    "\n",
    "Pb = 3\n",
    "k0 = 6\n",
    "k1 = 0.5\n",
    "k2 = 2\n",
    "k3 = 0.35\n",
    "k4 = 3.8"
   ]
  },
  {
   "cell_type": "code",
   "execution_count": 309,
   "metadata": {},
   "outputs": [],
   "source": [
    "def j1(h1, j01):\n",
    "    return j01 + k0 * np.cos(h1)\n",
    "def f1(h1, f01):\n",
    "    return f01 + k0 * np.sin(h1)\n",
    "\n",
    "def j2(h2, j02):\n",
    "    return j02 + k1 * np.cos(h2)\n",
    "def f2(h2, f02):\n",
    "    return f02 + k1 * np.sin(h2)\n",
    "\n",
    "def j3(h3, j03):\n",
    "    return j03 + k2 * np.cos(h3)\n",
    "def f3(h3, f03):\n",
    "    return f03 + k2 * np.sin(h3)\n",
    "\n",
    "def j4(h4, j04):\n",
    "    return j04 + k3 * np.cos(h4)\n",
    "def f4(h4, f04):\n",
    "    return f04 + k3 * np.sin(h4)\n",
    "\n",
    "def j5(h5, j05):\n",
    "    return j05 + k4 * np.cos(h5)\n",
    "def f5(h5, f05):\n",
    "    return f05 + k4 * np.sin(h5)"
   ]
  },
  {
   "cell_type": "code",
   "execution_count": 310,
   "metadata": {},
   "outputs": [],
   "source": [
    "def enacbe_zatic(pri_zatic):\n",
    "    h1A, h1B, h2B, h2C, h3C, h3D, h4D, h4E, h5E, h5F, j01, f01, j02, f02, j03, f03, j04, f04, j05, f05 = pri_zatic\n",
    "    # Zveznost x: 4\n",
    "    e1 = j2(h2B, j02) - j1(h1B, j01)\n",
    "    e2 = j3(h3C, j03) - j2(h2C, j02)\n",
    "    e3 = j4(h4D, j04) - j3(h3D, j03)\n",
    "    e4 = j5(h5E, j05) - j4(h4E, j04)\n",
    "    # Zveznost y: 4\n",
    "    e5 = f2(h2B, f02) - f1(h1B, f01)\n",
    "    e6 = f3(h3C, f03) - f2(h2C, f02)\n",
    "    e7 = f4(h4D, f04) - f3(h3D, f03)\n",
    "    e8 = f5(h5E, f05) - f4(h4E, f04)\n",
    "    # Odvodi: 6\n",
    "    e9 = h1A\n",
    "    e10 = h2B - h1B\n",
    "    e11 = h3C - h2C\n",
    "    e12 = h4D - h3D\n",
    "    e13 = h5E - h4E - np.pi\n",
    "    e14 = h5F\n",
    "    # Ostalo: 6\n",
    "    e15 = j01 + Sm + k0\n",
    "    e16 = f01\n",
    "    e17 = f2(h2C, f02) - Pb / 2\n",
    "    e18 = j4(h4E, j04) - PH + Sm\n",
    "    e19 = j05 - PH_ + Sm + k4\n",
    "    e20 = f05\n",
    "    return (e1, e2, e3, e4, e5, e6, e7, e8, e9, e10, e11, e12, e13, e14, e15, e16, e17, e18, e19, e20)"
   ]
  },
  {
   "cell_type": "code",
   "execution_count": 311,
   "metadata": {},
   "outputs": [
    {
     "name": "stdout",
     "output_type": "stream",
     "text": [
      "[9.884901252238699e-30, 0.1828666101967686, 0.1828666101967686, 1.5447021508176402, 1.5447021508176402, 2.102353044576166, 2.102353044576166, 3.365881013836664, 0.22428836024687107, -1.8817676041931337e-29, -6.66626, -7.326173604069164e-28, -1.2579645626858624, 1.0001702168802897, -1.2971013848314181, -0.4993191324808538, -2.1334465789473684, 0.9230123043531169, -6.179499999999999, 3.832532196179165e-46]\n"
     ]
    }
   ],
   "source": [
    "#pri_zatic = (0, 1, 1.5, 1.5, 1.5, 1.7, 1.7, 1.9, 1, 0, 1, 1, 1, 1, 1, 1, 1, 1, 1, 1)\n",
    "pri_zatic = np.ones(20)\n",
    "resitev_zatic = list(opt.fsolve(enacbe_zatic, pri_zatic))\n",
    "\n",
    "# +- 2 * pi, da dobimo prave dele kroga ... za luknjo\n",
    "for i, element in enumerate(resitev_zatic[0:10]):\n",
    "        if element > 2 * np.pi:\n",
    "            resitev_zatic[i] = element - 2 * int(element / (2 * np.pi)) * np.pi\n",
    "        elif - element > 2 * np.pi:\n",
    "            resitev_zatic[i] = element + 2 * int(-element / (2 * np.pi)) * np.pi\n",
    "        if i % 2 == 1 and i < 8:\n",
    "            if resitev_zatic[i] < resitev_zatic[i - 1]:\n",
    "                resitev_zatic[i] += 2 * np.pi\n",
    "\n",
    "print(resitev_zatic)\n",
    "h1A, h1B, h2B, h2C, h3C, h3D, h4D, h4E, h5E, h5F, j01, f01, j02, f02, j03, f03, j04, f04, j05, f05 = resitev_zatic"
   ]
  },
  {
   "cell_type": "code",
   "execution_count": 312,
   "metadata": {
    "scrolled": false
   },
   "outputs": [
    {
     "data": {
      "image/png": "[encoded data removed]",
      "text/plain": [
       "<Figure size 432x288 with 1 Axes>"
      ]
     },
     "metadata": {
      "needs_background": "light"
     },
     "output_type": "display_data"
    }
   ],
   "source": [
    "funkcije = [j1, f1, j2, f2, j3, f3, j4, f4, j5, f5]\n",
    "konst = [j01, f01, j02, f02, j03, f03, j04, f04, j05, f05]\n",
    "for i in range(0, 10, 2):\n",
    "    zac, kon = resitev_zatic[i], resitev_zatic[i+1]\n",
    "    t = np.linspace(zac, kon, 20)\n",
    "    plt.plot(funkcije[i](t, konst[i]), funkcije[i+1](t, konst[i+1]))\n",
    "    plt.plot(funkcije[i](t, konst[i]), -funkcije[i+1](t, konst[i+1]))\n",
    "plt.axis('equal')\n",
    "plt.grid()\n",
    "plt.show()"
   ]
  },
  {
   "cell_type": "code",
   "execution_count": null,
   "metadata": {},
   "outputs": [],
   "source": []
  }
 ],
 "metadata": {
  "kernelspec": {
   "display_name": "Python 3",
   "language": "python",
   "name": "python3"
  },
  "language_info": {
   "codemirror_mode": {
    "name": "ipython",
    "version": 3
   },
   "file_extension": ".py",
   "mimetype": "text/x-python",
   "name": "python",
   "nbconvert_exporter": "python",
   "pygments_lexer": "ipython3",
   "version": "3.7.0"
  }
 },
 "nbformat": 4,
 "nbformat_minor": 2
}

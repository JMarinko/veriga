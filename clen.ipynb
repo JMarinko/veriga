{
 "cells": [
  {
   "cell_type": "code",
   "execution_count": 268,
   "metadata": {},
   "outputs": [],
   "source": [
    "import numpy as np\n",
    "from scipy import optimize as opt\n",
    "import matplotlib.pyplot as plt"
   ]
  },
  {
   "cell_type": "markdown",
   "metadata": {},
   "source": [
    "## Člen"
   ]
  },
  {
   "cell_type": "code",
   "execution_count": 269,
   "metadata": {},
   "outputs": [],
   "source": [
    "# Podatki\n",
    "alpha_k = 30\n",
    "alpha_r = np.deg2rad(alpha_k)\n",
    "pk = 9.52\n",
    "a = 0.8567 * pk\n",
    "f = 0.6128 * a\n",
    "L = 1.86 * pk\n",
    "h1 = 0.33 * pk\n",
    "h2 = 0.7 * pk\n",
    "h3 = 1.115 * pk\n",
    "\n",
    "# Pridobi iz standarda\n",
    "r0 = 28\n",
    "r1 = 2.6\n",
    "r2 = 5.5\n",
    "r3 = 1.2\n",
    "r4 = 14.3\n",
    "r5 = 1.8"
   ]
  },
  {
   "cell_type": "code",
   "execution_count": 270,
   "metadata": {},
   "outputs": [],
   "source": [
    "# AB\n",
    "def x1(t1, x01):\n",
    "    return x01 + r0 * np.cos(t1)\n",
    "def y1(t1, y01):\n",
    "    return y01 + r0 * np.sin(t1)\n",
    "# BC\n",
    "def x2(t2, x02):\n",
    "    return x02 + r1 * np.cos(t2)\n",
    "def y2(t2, y02):\n",
    "    return y02 + r1 * np.sin(t2)\n",
    "# CD\n",
    "def x3(t3, x03):\n",
    "    return x03 + r2 * np.cos(t3)\n",
    "def y3(t3, y03):\n",
    "    return y03 + r2 * np.sin(t3)\n",
    "# DE\n",
    "def x4(t4, x04):\n",
    "    return x04 + t4 * np.sin(alpha_r)\n",
    "def y4(t4, y04):\n",
    "    return y04 - t4 * np.cos(alpha_r)\n",
    "# EF\n",
    "def x5(t5, x05):\n",
    "    return x05 + r3 * np.cos(t5)\n",
    "def y5(t5, y05):\n",
    "    return y05 + r3 * np.sin(t5)\n",
    "# FG\n",
    "def x6(t6, x06):\n",
    "    return x06 + r4 * np.cos(t6)\n",
    "def y6(t6, y06):\n",
    "    return y06 + r4 * np.sin(t6)\n",
    "# GH\n",
    "def x7(t7, x07):\n",
    "    return x07 + r5 * np.cos(t7)\n",
    "def y7(t7, y07):\n",
    "    return y07 + r5 * np.sin(t7)"
   ]
  },
  {
   "cell_type": "code",
   "execution_count": 271,
   "metadata": {},
   "outputs": [],
   "source": [
    "def enacbe(priblizki):\n",
    "    t1A, t1B, t2B, t2C, t3C, t3D, t4D, t4E, t5E, t5F, t6F, t6G, t7G, t7H, x01, y01, x02, y02, x03, y03, x04, y04, x05, y05, x06, y06, x07, y07 = priblizki\n",
    "    # Zveznost x: 6\n",
    "    e1 = x2(t2B, x02) - x1(t1B, x01)\n",
    "    e2 = x3(t3C, x03) - x2(t2C, x02)\n",
    "    e3 = x4(t4D, x04) - x3(t3D, x03)\n",
    "    e4 = x5(t5E, x05) - x4(t4E, x04)\n",
    "    e5 = x6(t6F, x06) - x5(t5F, x05)\n",
    "    e6 = x7(t7G, x07) - x6(t6G, x06)\n",
    "    # Zveznost y: 6\n",
    "    e7 = y2(t2B, y02) - y1(t1B, y01)\n",
    "    e8 = y3(t3C, y03) - y2(t2C, y02)\n",
    "    e9 = y4(t4D, y04) - y3(t3D, y03)\n",
    "    e10 = y5(t5E, y05) - y4(t4E, y04)\n",
    "    e11 = y6(t6F, y06) - y5(t5F, y05)\n",
    "    e12 = y7(t7G, y07) - y6(t6G, y06)\n",
    "    # Odvodi: 8\n",
    "    e13 = np.pi / 2 - t1A\n",
    "    e14 = t2B - t1B\n",
    "    e15 = t3C - t2C\n",
    "    e16 = np.pi + alpha_r - t3D\n",
    "    e17 = t3D - t5E\n",
    "    e18 = t6F - t5F\n",
    "    e19 = t7G - np.pi - t6G\n",
    "    e20 = np.pi / 2 - t7H\n",
    "    # Ostalo: 8\n",
    "    e21 = 0.5 * a - x1(t1A, x01)\n",
    "    e22 = h1 - y1(t1A, y01)\n",
    "    e23 = 0.5 * a - 0.5 * L - x3(t3C, x03)\n",
    "    e24 = - f * np.cos(alpha_r) - x4(t4D, x04)\n",
    "    e25 = - f * np.sin(alpha_r) - y4(t4D, x04)\n",
    "    e26 = h1 - h3 - y5(t5F, y05)\n",
    "    e27 = h1 - h2 - y07\n",
    "    e28 = 0.5 * a - x7(t7H, x07)\n",
    "    return (e1, e2, e3, e4, e5, e6, e7, e8, e9, e10, e11, e12, e13, e14, e15, e16, e17, e18, e19, e20, e21, e22, e23, e24, e25, e26, e27, e28)"
   ]
  },
  {
   "cell_type": "code",
   "execution_count": 272,
   "metadata": {
    "scrolled": false
   },
   "outputs": [
    {
     "name": "stdout",
     "output_type": "stream",
     "text": [
      "[1.5707963267948966, 1.825120515151018, 1.825120515151018, 2.8157345947987906, 2.8157345947987906, 3.665191429188092, -1.33917373929207, 2.4671142535385084, 3.665191429188092, 5.527349320495073, -0.755835986684513, -0.37236758968357986, -3.513960243273373, -4.71238898038469, 4.0778919999999985, -24.8584, -2.3125293811496066, -0.2754279548758738, 0.434862155260447, -1.2037811987670188, -3.6586906959079313, -5.113539677074949, -1.3859030845973506, -6.65012329467798, -10.918752079567815, 2.335130738420726, 4.077892, -3.5223999999999998]\n"
     ]
    }
   ],
   "source": [
    "zac_priblizki = np.ones(28)\n",
    "resitev = list(opt.fsolve(enacbe, zac_priblizki))\n",
    "\n",
    "# +- 2 * pi, da dobmo prave dele kroga\n",
    "for i, element in enumerate(resitev):\n",
    "    if i < 14 and (i != 7 or i != 8):\n",
    "        if element > 2 * np.pi:\n",
    "            resitev[i] = element - 2 * int(element / (2 * np.pi)) * np.pi\n",
    "        elif - element > 2 * np.pi:\n",
    "            resitev[i] = element + 2 * int(-element / (2 * np.pi)) * np.pi\n",
    "        if i % 2 == 1 and i < 12:\n",
    "            if resitev[i] < resitev[i - 1]:\n",
    "                resitev[i] += 2 * np.pi\n",
    "resitev[13] -= 2 * np.pi\n",
    "            \n",
    "t1A, t1B, t2B, t2C, t3C, t3D, t4D, t4E, t5E, t5F, t6F, t6G, t7G, t7H, x01, y01, x02, y02, x03, y03, x04, y04, x05, y05, x06, y06, x07, y07 = resitev\n",
    "print(resitev)"
   ]
  },
  {
   "cell_type": "code",
   "execution_count": 287,
   "metadata": {
    "scrolled": true
   },
   "outputs": [
    {
     "data": {
      "image/png": "[encoded data removed]",
      "text/plain": [
       "<Figure size 432x288 with 1 Axes>"
      ]
     },
     "metadata": {
      "needs_background": "light"
     },
     "output_type": "display_data"
    }
   ],
   "source": [
    "funkcije = [x1, y1, x2, y2, x3, y3, x4, y4, x5, y5, x6, y6, x7, y7]\n",
    "konst = [x01, y01, x02, y02, x03, y03, x04, y04, x05, y05, x06, y06, x07, y07]\n",
    "for i in range(0, 14, 2):\n",
    "    zac, kon = resitev[i], resitev[i+1]\n",
    "    t = np.linspace(zac, kon, 20)\n",
    "    plt.plot(funkcije[i](t, konst[i]), funkcije[i+1](t, konst[i+1]))\n",
    "    plt.plot(a-funkcije[i](t, konst[i]), funkcije[i+1](t, konst[i+1]))\n",
    "plt.axis('equal')\n",
    "plt.grid()\n",
    "plt.show()\n",
    "    "
   ]
  },
  {
   "cell_type": "markdown",
   "metadata": {},
   "source": [
    "## Luknja"
   ]
  },
  {
   "cell_type": "code",
   "execution_count": 274,
   "metadata": {},
   "outputs": [],
   "source": [
    "gama = np.deg2rad(3.67)\n",
    "pch = 9.518\n",
    "ro1 = 0.165 * pch\n",
    "Hb = 0.425 * pch\n",
    "Hb_ = 0.415 * pch\n",
    "\n",
    "ro2 = 31.5\n",
    "ro3 = 0.12\n",
    "ro4 = 8.9"
   ]
  },
  {
   "cell_type": "code",
   "execution_count": 275,
   "metadata": {},
   "outputs": [],
   "source": [
    "def u1(z1, u01):\n",
    "    return u01 + ro1 * np.cos(z1)\n",
    "def w1(z1, w01):\n",
    "    return w01 + ro1 * np.sin(z1)\n",
    "\n",
    "def u2(z2, u02):\n",
    "    return u02 + ro2 * np.cos(z2)\n",
    "def w2(z2, w02):\n",
    "    return w02 + ro2 * np.sin(z2)\n",
    "\n",
    "def u3(z3, u03):\n",
    "    return u03 + ro3 * np.cos(z3)\n",
    "def w3(z3, w03):\n",
    "    return w03 + ro3 * np.sin(z3)\n",
    "\n",
    "def u4(z4, u04):\n",
    "    return u04 + ro4 * np.cos(z4)\n",
    "def w4(z4, w04):\n",
    "    return w04 + ro4 * np.sin(z4)"
   ]
  },
  {
   "cell_type": "code",
   "execution_count": 276,
   "metadata": {},
   "outputs": [],
   "source": [
    "def enacbe_luknja(pri_luknja):\n",
    "    z1A, z1B, z2B, z2C, z3C, z3D, z4D, z4E, u01, w01, u02, w02, u03, w03, u04, w04 = pri_luknja\n",
    "    # zveznost x: 3\n",
    "    e1 = u2(z2B, u02) - u1(z1B, u01)\n",
    "    e2 = u3(z3C, u03) - u2(z2C, u02)\n",
    "    e3 = u4(z4D, u04) - u3(z3D, u03)\n",
    "    # Zveznost y: 3\n",
    "    e4 = w2(z2B, w02) - w1(z1B, w01)\n",
    "    e5 = w3(z3C, w03) - w2(z2C, w02)\n",
    "    e6 = w4(z4D, w04) - w3(z3D, w03)\n",
    "    # Odvodi: 5\n",
    "    e7 = z1A\n",
    "    e8 = z2B - z1B\n",
    "    e9 = z3C - z2C\n",
    "    e10 = z4D - z3D + np.pi\n",
    "    e11 = z4E\n",
    "    # Ostalo: 5\n",
    "    e12 = u01\n",
    "    e13 = w01\n",
    "    e14 = ro1 - Hb - u3(z3D, u03)\n",
    "    e15 = ro1 - Hb_ - u4(z4E, u04)\n",
    "    e16 = w04\n",
    "    return (e1, e2, e3, e4, e5, e6, e7, e8, e9, e10, e11, e12, e13, e14, e15, e16)"
   ]
  },
  {
   "cell_type": "code",
   "execution_count": 277,
   "metadata": {},
   "outputs": [
    {
     "name": "stdout",
     "output_type": "stream",
     "text": [
      "[1.52613425228916e-24, 1.5914346266658432, 1.5914346266658432, 1.6657001683431139, 1.6657001683431139, 3.287972284866576, 0.1463796312767829, 7.138754028639753e-24, -2.227821133887969e-21, -3.833786950614599e-21, 0.6176507659792217, -29.9231561428264, -2.3559633258426573, 1.315634154476691, -11.2795, 1.2375874296827626e-21]\n"
     ]
    }
   ],
   "source": [
    "pri_luknja = np.ones(16)\n",
    "resitev_luknja = list(opt.fsolve(enacbe_luknja, pri_luknja))\n",
    "\n",
    "print(resitev_luknja)\n",
    "z1A, z1B, z2B, z2C, z3C, z3D, z4D, z4E, u01, w01, u02, w02, u03, w03, u04, w04 = resitev_luknja"
   ]
  },
  {
   "cell_type": "code",
   "execution_count": 288,
   "metadata": {},
   "outputs": [
    {
     "data": {
      "image/png": "[encoded data removed]",
      "text/plain": [
       "<Figure size 432x288 with 1 Axes>"
      ]
     },
     "metadata": {
      "needs_background": "light"
     },
     "output_type": "display_data"
    }
   ],
   "source": [
    "funkcije = [u1, w1, u2, w2, u3, w3, u4, w4]\n",
    "konst = [u01, w01, u02, w02, u03, w03, u04, w04]\n",
    "for i in range(0, 8, 2):\n",
    "    zac, kon = resitev_luknja[i], resitev_luknja[i+1]\n",
    "    t = np.linspace(zac, kon, 20)\n",
    "    plt.plot(funkcije[i](t, konst[i]), funkcije[i+1](t, konst[i+1]))\n",
    "    plt.plot(funkcije[i](t, konst[i]), -funkcije[i+1](t, konst[i+1]))\n",
    "plt.axis('equal')\n",
    "plt.grid()\n",
    "plt.show()"
   ]
  },
  {
   "cell_type": "markdown",
   "metadata": {},
   "source": [
    "## Zatič"
   ]
  },
  {
   "cell_type": "code",
   "execution_count": 279,
   "metadata": {},
   "outputs": [],
   "source": [
    "Sm = 0.07 * pch\n",
    "PH = Sm + ro1 - Hb\n",
    "PH_ = Sm + ro1 - Hb_\n",
    "\n",
    "Pb = 3\n",
    "k0 = 6\n",
    "k1 = 0.5\n",
    "k2 = 2\n",
    "k3 = 0.35\n",
    "k4 = 3.8"
   ]
  },
  {
   "cell_type": "code",
   "execution_count": 280,
   "metadata": {},
   "outputs": [],
   "source": [
    "def j1(h1, j01):\n",
    "    return j01 + k0 * np.cos(h1)\n",
    "def f1(h1, f01):\n",
    "    return f01 + k0 * np.sin(h1)\n",
    "\n",
    "def j2(h2, j02):\n",
    "    return j02 + k1 * np.cos(h2)\n",
    "def f2(h2, f02):\n",
    "    return f02 + k1 * np.sin(h2)\n",
    "\n",
    "def j3(h3, j03):\n",
    "    return j03 + k2 * np.cos(h3)\n",
    "def f3(h3, f03):\n",
    "    return f03 + k2 * np.sin(h3)\n",
    "\n",
    "def j4(h4, j04):\n",
    "    return j04 + k3 * np.cos(h4)\n",
    "def f4(h4, f04):\n",
    "    return f04 + k3 * np.sin(h4)\n",
    "\n",
    "def j5(h5, j05):\n",
    "    return j05 + k4 * np.cos(h5)\n",
    "def f5(h5, f05):\n",
    "    return f05 + k4 * np.sin(h5)"
   ]
  },
  {
   "cell_type": "code",
   "execution_count": 281,
   "metadata": {},
   "outputs": [],
   "source": [
    "def enacbe_zatic(pri_zatic):\n",
    "    h1A, h1B, h2B, h2C, h3C, h3D, h4D, h4E, h5E, h5F, j01, f01, j02, f02, j03, f03, j04, f04, j05, f05 = pri_zatic\n",
    "    # Zveznost x: 4\n",
    "    e1 = j2(h2B, j02) - j1(h1B, j01)\n",
    "    e2 = j3(h3C, j03) - j2(h2C, j02)\n",
    "    e3 = j4(h4D, j04) - j3(h3D, j03)\n",
    "    e4 = j5(h5E, j05) - j4(h4E, j04)\n",
    "    # Zveznost y: 4\n",
    "    e5 = f2(h2B, f02) - f1(h1B, f01)\n",
    "    e6 = f3(h3C, f03) - f2(h2C, f02)\n",
    "    e7 = f4(h4D, f04) - f3(h3D, f03)\n",
    "    e8 = f5(h5E, f05) - f4(h4E, f04)\n",
    "    # Odvodi: 6\n",
    "    e9 = h1A\n",
    "    e10 = h2B - h1B\n",
    "    e11 = h3C - h2C\n",
    "    e12 = h4D - h3D\n",
    "    e13 = h5E - h4E - np.pi\n",
    "    e14 = h5F\n",
    "    # Ostalo: 6\n",
    "    e15 = j01 + Sm + k0\n",
    "    e16 = f01\n",
    "    e17 = f2(h2C, f02) - Pb / 2\n",
    "    e18 = j4(h4E, j04) - PH + Sm\n",
    "    e19 = j05 - PH_ + Sm + k4\n",
    "    e20 = f05\n",
    "    return (e1, e2, e3, e4, e5, e6, e7, e8, e9, e10, e11, e12, e13, e14, e15, e16, e17, e18, e19, e20)"
   ]
  },
  {
   "cell_type": "code",
   "execution_count": 282,
   "metadata": {},
   "outputs": [
    {
     "name": "stdout",
     "output_type": "stream",
     "text": [
      "[9.884901252238699e-30, 0.1828666101967686, 0.1828666101967686, 1.5447021508176402, 1.5447021508176402, 2.102353044576166, 2.102353044576166, 3.365881013836664, 0.22428836024687107, -1.8817676041931337e-29, -6.66626, -7.326173604069164e-28, -1.2579645626858624, 1.0001702168802897, -1.2971013848314181, -0.4993191324808538, -2.1334465789473684, 0.9230123043531169, -6.179499999999999, 3.832532196179165e-46]\n"
     ]
    }
   ],
   "source": [
    "#pri_zatic = (0, 1, 1.5, 1.5, 1.5, 1.7, 1.7, 1.9, 1, 0, 1, 1, 1, 1, 1, 1, 1, 1, 1, 1)\n",
    "pri_zatic = np.ones(20)\n",
    "resitev_zatic = list(opt.fsolve(enacbe_zatic, pri_zatic))\n",
    "\n",
    "# +- 2 * pi, da dobimo prave dele kroga ... za luknjo\n",
    "for i, element in enumerate(resitev_zatic[0:10]):\n",
    "        if element > 2 * np.pi:\n",
    "            resitev_zatic[i] = element - 2 * int(element / (2 * np.pi)) * np.pi\n",
    "        elif - element > 2 * np.pi:\n",
    "            resitev_zatic[i] = element + 2 * int(-element / (2 * np.pi)) * np.pi\n",
    "        if i % 2 == 1 and i < 8:\n",
    "            if resitev_zatic[i] < resitev_zatic[i - 1]:\n",
    "                resitev_zatic[i] += 2 * np.pi\n",
    "\n",
    "print(resitev_zatic)\n",
    "h1A, h1B, h2B, h2C, h3C, h3D, h4D, h4E, h5E, h5F, j01, f01, j02, f02, j03, f03, j04, f04, j05, f05 = resitev_zatic"
   ]
  },
  {
   "cell_type": "code",
   "execution_count": 283,
   "metadata": {},
   "outputs": [
    {
     "data": {
      "image/png": "[encoded data removed]",
      "text/plain": [
       "<Figure size 432x288 with 1 Axes>"
      ]
     },
     "metadata": {
      "needs_background": "light"
     },
     "output_type": "display_data"
    }
   ],
   "source": [
    "funkcije = [j1, f1, j2, f2, j3, f3, j4, f4, j5, f5]\n",
    "konst = [j01, f01, j02, f02, j03, f03, j04, f04, j05, f05]\n",
    "for i in range(0, 10, 2):\n",
    "    zac, kon = resitev_zatic[i], resitev_zatic[i+1]\n",
    "    t = np.linspace(zac, kon, 20)\n",
    "    plt.plot(funkcije[i](t, konst[i]), funkcije[i+1](t, konst[i+1]))\n",
    "    plt.plot(funkcije[i](t, konst[i]), -funkcije[i+1](t, konst[i+1]))\n",
    "plt.axis('equal')\n",
    "plt.grid()\n",
    "plt.show()"
   ]
  },
  {
   "cell_type": "code",
   "execution_count": null,
   "metadata": {},
   "outputs": [],
   "source": []
  }
 ],
 "metadata": {
  "kernelspec": {
   "display_name": "Python 3",
   "language": "python",
   "name": "python3"
  },
  "language_info": {
   "codemirror_mode": {
    "name": "ipython",
    "version": 3
   },
   "file_extension": ".py",
   "mimetype": "text/x-python",
   "name": "python",
   "nbconvert_exporter": "python",
   "pygments_lexer": "ipython3",
   "version": "3.7.0"
  }
 },
 "nbformat": 4,
 "nbformat_minor": 2
}

{
 "cells": [
  {
   "cell_type": "code",
   "execution_count": null,
   "metadata": {},
   "outputs": [],
   "source": [
    "# zapis v datoteko \"robne_vrednosti.txt\"\n",
    "'''with open(\"clen_prenos.txt\", 'w') as robne:\n",
    "    print(t1A, t1B, t2B, t2C, t3C, t3D, t4D, t4E, t5E, t5F, t6F, t6G, t7G, t7H, x01, y01, x02, y02, x03, y03, x04, y04, x05, y05, x06, y06, x07, y07, r0, r1, r2, r3, r4, r5, alpha_r, file=robne)'''"
   ]
  },
  {
   "cell_type": "code",
   "execution_count": null,
   "metadata": {},
   "outputs": [],
   "source": [
    "'''Poskus enega parametra za člen\n",
    "def pol_clen_x(t_seznam):\n",
    "    vrednosti_x = []\n",
    "    for t in t_seznam:\n",
    "        if t1A < t <= t1B:\n",
    "            vrednosti_x.append(x1(t, x01))\n",
    "        elif t2B < t <= t2C:\n",
    "            vrednosti_x.append(x2(t, x02))\n",
    "        elif t3C < t <= t3D:\n",
    "            vrednosti_x.append(x3(t, x03))\n",
    "        elif t3D < t <= t5E:\n",
    "            vrednosti_x.append(x4((t4E - t4D) / (t5E - t3D) * (t - t3D) + t4D, x04))\n",
    "        elif t5E < t <= t5F:\n",
    "            vrednosti_x.append(x5(t, x05))\n",
    "        elif t6F < t <= t6G:\n",
    "            vrednosti_x.append(x6(t, x06))\n",
    "        elif t6G < t <= 2 * np.pi - np.arctan((h1 - h2 + r5) / (0.5 * a)):\n",
    "            g = ((a * 0.5) ** 2 + (h1 - h2) ** 2) ** (1 / 2)\n",
    "            B0 = 2 * np.pi - np.arctan((h1 - h2) / (0.5 * a))\n",
    "            r = min(np.roots([1, - 2 * g * np.cos(B0 - t), g ** 2 - r5 ** 2]))\n",
    "            phi = np.arcsin(r * np.sin(t) / r5)\n",
    "            vrednosti_x.append(x7(phi, x07))\n",
    "    return vrednosti_x\n",
    "    \n",
    "def pol_clen_y(t_seznam):\n",
    "    vrednosti_y = []\n",
    "    for t in t_seznam:\n",
    "        if t1A < t <= t1B:\n",
    "            vrednosti_y.append(y1(t, y01))\n",
    "        elif t2B < t <= t2C:\n",
    "            vrednosti_y.append(y2(t, y02))\n",
    "        elif t3C < t <= t3D:\n",
    "            vrednosti_y.append(y3(t, y03))\n",
    "        elif t3D < t <= t5E:\n",
    "            vrednosti_y.append(y4((t4E - t4D) / (t5E - t3D) * (t - t3D) + t4D, y04))\n",
    "        elif t5E < t <= t5F:\n",
    "            vrednosti_y.append(y5(t, y05))\n",
    "        elif t6F < t <= t6G:\n",
    "            vrednosti_y.append(y6(t, y06))\n",
    "        elif t6G < t <= 2 * np.pi - np.arctan((h1 - h2 + r5) / (0.5 * a)):\n",
    "            g = ((a * 0.5) ** 2 + (h1 - h2) ** 2) ** (1 / 2)\n",
    "            print(\"g\", g)\n",
    "            B0 = 2 * np.pi - np.arctan((h1 - h2) / (0.5 * a))\n",
    "            r = min(np.roots([1, - 2 * g * np.cos(B0 - t), g ** 2 - r5 ** 2]))\n",
    "            print(r)\n",
    "            phi = np.arcsin(r * np.sin(t) / r5)\n",
    "            vrednosti_y.append(y7(phi, y07))\n",
    "    return vrednosti_y\n",
    "'''"
   ]
  }
 ],
 "metadata": {
  "kernelspec": {
   "display_name": "Python 3",
   "language": "python",
   "name": "python3"
  },
  "language_info": {
   "codemirror_mode": {
    "name": "ipython",
    "version": 3
   },
   "file_extension": ".py",
   "mimetype": "text/x-python",
   "name": "python",
   "nbconvert_exporter": "python",
   "pygments_lexer": "ipython3",
   "version": "3.7.0"
  }
 },
 "nbformat": 4,
 "nbformat_minor": 2
}

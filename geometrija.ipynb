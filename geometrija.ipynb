{
 "cells": [
  {
   "cell_type": "code",
   "execution_count": 8,
   "metadata": {
    "collapsed": true
   },
   "outputs": [],
   "source": [
    "import numpy as np\n",
    "from scipy import optimize as opt"
   ]
  },
  {
   "cell_type": "code",
   "execution_count": 22,
   "metadata": {},
   "outputs": [],
   "source": [
    "alpha_d = 30\n",
    "alpha_r = np.deg2rad(alpha_d)\n",
    "pk = 9.52\n",
    "a = 0.8567 * pk\n",
    "f = 0.6128 * a\n",
    "L = 1.86 * pk\n",
    "h1 = 0.33 * pk\n",
    "h2 = 0.7 * pk\n",
    "h3 = 1.115 * pk\n",
    "\n",
    "r0 = 28\n",
    "r1 = 2.6\n",
    "r2 = 5.5\n",
    "r3 = 1.2\n",
    "r4 = 14.3\n",
    "r5 = 1.8"
   ]
  },
  {
   "cell_type": "code",
   "execution_count": 96,
   "metadata": {},
   "outputs": [],
   "source": [
    "# AB\n",
    "def x1(t1):\n",
    "    return 0.5 * a + r0 * np.cos(t1)\n",
    "def x1_(t1):\n",
    "    return -r0 * np.sin(t1)\n",
    "def y1(t1, y0):\n",
    "    return y0 + r0 * np.sin(t1)\n",
    "def y1_(t1):\n",
    "    return r0 * np.cos(t1)\n",
    "# BC\n",
    "def x2(t2, t1B, t2B):\n",
    "    return x1(t1B) + r1 * np.cos(t2) - r1 * np.cos(t2B)\n",
    "def x2_(t2):\n",
    "    return -r1 * np.sin(t2)\n",
    "def y2(t2, t1B, t2B, y0):\n",
    "    return y1(t1B, y0) + r1 * np.sin(t2) - r1 * np.sin(t2B)\n",
    "def y2_(t2):\n",
    "    return r1 * np.cos(t2)\n",
    "# CD\n",
    "def x3(t3, t1B, t2B, t2C, t3C):\n",
    "    return x2(t2C, t1B, t2B) + r2 * np.cos(t3) - r2 * np.cos(t3C)\n",
    "def x3_(t3):\n",
    "    return -r2 * np.sin(t3)\n",
    "def y3(t3, t1B, t2B, t2C, t3C, y0):\n",
    "    return y2(t2C, t1B, t2B, y0) + r2 * np.sin(t3) - r2 * np.sin(t3C)\n",
    "def y3_(t3):\n",
    "    return r2 * np.cos(t3)\n",
    "# DE\n",
    "def x4(t4, t3D):\n",
    "    return f * np.cos(t3D) + t4 * np.sin(alpha_r)\n",
    "def x4_(t3D):\n",
    "    return np.sin(alpha_r)\n",
    "def y4(t4, t3D):\n",
    "    return f * np.sin(t3D) - t4 * np.cos(alpha_r)\n",
    "def y4_(t3D):\n",
    "    return - np.cos(alpha_r)\n",
    "# EF\n",
    "def x5(t5, t3D, t4E, t5E):\n",
    "    return x4(t4E, t3D) + r3 * np.cos(t5) - r3 * np.cos(t5E)\n",
    "def x5_(t5):\n",
    "    return -r3 * np.sin(t5)\n",
    "def y5(t5, t3D, t4E, t5E):\n",
    "    return y4(t4E, t3D) + r3 * np.sin(t5) - r3 * np.sin(t5E)\n",
    "def y5_(t5):\n",
    "    return r3 * np.cos(t5)\n",
    "# FG\n",
    "def x6(t6, t3D, t4E, t5E, t5F, t6F):\n",
    "    return x5(t5F, t3D, t4E, t5E) + r4 * np.cos(t6) - r4 * np.cos(t6F)\n",
    "def x6_(t6):\n",
    "    return -r4 * np.sin(t6)\n",
    "def y6(t6, t3D, t4E, t5E, t5F, t6F):\n",
    "    return y5(t5F, t3D, t4E, t5E) + r4 * np.sin(t6) - r4 * np.sin(t6F)\n",
    "def y6_(t6):\n",
    "    return r4 * np.cos(t6)\n",
    "# GH\n",
    "def x7(t7, t3D, t4E, t5E, t5F, t6F, t6G, t7G):\n",
    "    return x6(t6G, t3D, t4E, t5E, t5F, t6F) + r5 * np.cos(t7) - r5 * np.cos(t7G)\n",
    "def x7_(t7):\n",
    "    return -r5 * np.sin(t7)\n",
    "def y7(t7, t3D, t4E, t5E, t5F, t6F, t6G, t7G):\n",
    "    return y6(t6G, t3D, t4E, t5E, t5F, t6F) + r5 * np.sin(t7) - r5 * np.sin(t7G)\n",
    "def y7_(t7):\n",
    "    return r5 * np.cos(t7)"
   ]
  },
  {
   "cell_type": "code",
   "execution_count": 122,
   "metadata": {},
   "outputs": [],
   "source": [
    "def enacbe(priblizki):\n",
    "    t1A, t1B, t2B, t2C, t3C, t3D, t4D, t4E, t5E, t5F, t6F, t6G, t7G, t7H, y0 = priblizki\n",
    "    e1 = 0.5 * a - x1(t1A)\n",
    "    e2 = h1 - y1(t1A, y0)\n",
    "    e3 = x2(t2B, t1B, t2B) - x1(t1B)\n",
    "    e4 = (y1_(t1B) / x1_(t1B)) - (y2_(t2B) / x2_(t2B))\n",
    "    e5 = x3(t3C, t1B, t2B, t2C, t3C) - x2(t2C, t1B, t2B)\n",
    "    e6 = (y2_(t2C) / x2_(t2C)) - (y3_(t3C) / x3_(t3C))\n",
    "    e7 = x4(t4D, t3D) - x3(t3D, t1B, t2B, t2C, t3C)\n",
    "    e8 = (y3_(t3D) / x3_(t3D)) - np.tan(alpha_r + np.pi / 2)\n",
    "    e9 = x5(t5E, t3D, t4E, t5E) - x4(t4E, t3D)\n",
    "    e10 = (y4_(t4E) / x4_(t4E)) - (y5_(t5E) / x5_(t5E))\n",
    "    e11 = x6(t6F, t3D, t4E, t5E, t5F, t6F) - x5(t5F, t3D, t4E, t5E)\n",
    "    e12 = (y5_(t5F) / x5_(t5F)) - (y6_(t6F) / x6_(t6F))\n",
    "    e13 = x7(t7G, t3D, t4E, t5E, t5F, t6F, t6G, t7G) - x6(t6G, t3D, t4E, t5E, t5F, t6F)\n",
    "    e14 = 0.5 * a - x7(t7H, t3D, t4E, t5E, t5F, t6F, t6G, t7G)\n",
    "    # spada vmes\n",
    "    e15 = 0.5 * a - 0.5 * L - x2(t2C, t1B, t2B)\n",
    "    return (e1, e2, e3, e4, e5, e6, e7, e8, e9, e10, e11, e12, e13, e14, e15)\n",
    "\n",
    "def e1_(t1):\n",
    "    return - x1_(t1)\n",
    "def e2_(t1):\n",
    "    return - y1_(t1)\n",
    "def e3_(t2):\n",
    "    return x2_(t2)"
   ]
  },
  {
   "cell_type": "code",
   "execution_count": 98,
   "metadata": {},
   "outputs": [
    {
     "data": {
      "text/plain": [
       "2.8099800957108707"
      ]
     },
     "execution_count": 98,
     "metadata": {},
     "output_type": "execute_result"
    }
   ],
   "source": [
    "np.deg2rad(161)"
   ]
  },
  {
   "cell_type": "code",
   "execution_count": 136,
   "metadata": {},
   "outputs": [
    {
     "name": "stdout",
     "output_type": "stream",
     "text": [
      "1.57 1.81 8.093185307179587 9.943185307179586 9.943185307179586 10.183185307179587 0.0 4.5 9.943185307179586 11.903185307179587 11.903185307179587 12.213185307179586 9.083185307179587 7.8531853071795865 -25.0\n"
     ]
    },
    {
     "name": "stderr",
     "output_type": "stream",
     "text": [
      "C:\\Users\\Jure\\AppData\\Roaming\\Python\\Python37\\site-packages\\scipy\\optimize\\minpack.py:163: RuntimeWarning: The iteration is not making good progress, as measured by the \n  improvement from the last ten iterations.\n  warnings.warn(msg, RuntimeWarning)\n"
     ]
    }
   ],
   "source": [
    "zac_priblizki = [1.57, 1.81, 1.81, 3.66, 3.66, 3.9, 0, 4.5, 3.66, 5.62, 5.62, 5.93, 2.8, 1.57, -25]\n",
    "#zac_priblizki = np.ones(15)\n",
    "#zac_priblizki[-1] = -25\n",
    "resitev = opt.fsolve(enacbe, zac_priblizki)\n",
    "# resitev je oblike: (t1A, t1B, t2B, t2C, t3C, t3D, t4D, t4E, t5E, t5F, t6F, t6G, t7G, t7H, y0)\n",
    "\n",
    "for i, element in enumerate(resitev[:-1]):\n",
    "    if i == 0:\n",
    "        nov_element = element - int(element / (2 * np.pi)) * 2 * np.pi\n",
    "        if nov_element < 0:\n",
    "            resitev[i] = nov_element + 2 * np.pi\n",
    "        else:\n",
    "             resitev[i] = nov_element\n",
    "    elif i in (6, 7):\n",
    "        pass\n",
    "    else:\n",
    "        nov_element = element - int(element / (2 * np.pi)) * 2 * np.pi\n",
    "        if nov_element > resitev[i-1]:\n",
    "            resitev[i] = nov_element\n",
    "        else:\n",
    "            resitev[i] = nov_element + 2 * np.pi\n",
    "            \n",
    "    \n",
    "t1A, t1B, t2B, t2C, t3C, t3D, t4D, t4E, t5E, t5F, t6F, t6G, t7G, t7H, y0 = resitev\n",
    "print(t1A, t1B, t2B, t2C, t3C, t3D, t4D, t4E, t5E, t5F, t6F, t6G, t7G, t7H, y0)\n",
    "# zapis v datoteko \"robne_vrednosti.txt\"\n",
    "with open(\"robne_vrednosti.txt\", 'w') as robne:\n",
    "    print(t1A, t1B, t2B, t2C, t3C, t3D, t4D, t4E, t5E, t5F, t6F, t6G, t7G, t7H, y0, file=robne)"
   ]
  },
  {
   "cell_type": "code",
   "execution_count": null,
   "metadata": {},
   "outputs": [],
   "source": []
  }
 ],
 "metadata": {
  "kernelspec": {
   "display_name": "Python 2",
   "language": "python",
   "name": "python2"
  },
  "language_info": {
   "codemirror_mode": {
    "name": "ipython",
    "version": 2
   },
   "file_extension": ".py",
   "mimetype": "text/x-python",
   "name": "python",
   "nbconvert_exporter": "python",
   "pygments_lexer": "ipython2",
   "version": "2.7.6"
  }
 },
 "nbformat": 4,
 "nbformat_minor": 0
}
